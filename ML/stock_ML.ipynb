{
 "cells": [
  {
   "cell_type": "code",
   "execution_count": 1,
   "metadata": {},
   "outputs": [
    {
     "name": "stderr",
     "output_type": "stream",
     "text": [
      "Using TensorFlow backend.\n"
     ]
    }
   ],
   "source": [
    "# Dependencies\n",
    "%matplotlib inline\n",
    "import matplotlib.pyplot as plt\n",
    "import numpy as np\n",
    "import pandas as pd\n",
    "from sklearn.preprocessing import MinMaxScaler\n",
    "from keras.models import Sequential\n",
    "from keras.layers import Dense, Dropout, LSTM"
   ]
  },
  {
   "cell_type": "code",
   "execution_count": 2,
   "metadata": {},
   "outputs": [],
   "source": [
    "df = pd.read_csv(\"Resources/prices.csv\")"
   ]
  },
  {
   "cell_type": "code",
   "execution_count": 3,
   "metadata": {},
   "outputs": [],
   "source": [
    "df['date'] = pd.to_datetime(df.date,format='%Y-%m-%d')"
   ]
  },
  {
   "cell_type": "code",
   "execution_count": 4,
   "metadata": {},
   "outputs": [],
   "source": [
    "df.set_index('symbol', inplace=True)"
   ]
  },
  {
   "cell_type": "code",
   "execution_count": 5,
   "metadata": {},
   "outputs": [],
   "source": [
    "df = df.sort_values('date')"
   ]
  },
  {
   "cell_type": "code",
   "execution_count": 6,
   "metadata": {},
   "outputs": [
    {
     "data": {
      "text/plain": [
       "Index(['SYMC', 'IFF', 'ILMN', 'INTC', 'INTU', 'IP', 'IPG', 'IR', 'IRM', 'IDXX',\n",
       "       ...\n",
       "       'NAVI', 'QRVO', 'CFG', 'WRK', 'KHC', 'PYPL', 'HPE', 'CSRA', 'WLTW',\n",
       "       'FTV'],\n",
       "      dtype='object', name='symbol', length=501)"
      ]
     },
     "execution_count": 6,
     "metadata": {},
     "output_type": "execute_result"
    }
   ],
   "source": [
    "df.index.unique()"
   ]
  },
  {
   "cell_type": "code",
   "execution_count": 8,
   "metadata": {},
   "outputs": [
    {
     "data": {
      "text/plain": [
       "date      datetime64[ns]\n",
       "open             float64\n",
       "close            float64\n",
       "low              float64\n",
       "high             float64\n",
       "volume           float64\n",
       "dtype: object"
      ]
     },
     "execution_count": 8,
     "metadata": {},
     "output_type": "execute_result"
    }
   ],
   "source": [
    "df.dtypes"
   ]
  },
  {
   "cell_type": "code",
   "execution_count": 7,
   "metadata": {},
   "outputs": [],
   "source": [
    "tickers = df.index.unique()\n"
   ]
  },
  {
   "cell_type": "code",
   "execution_count": 9,
   "metadata": {},
   "outputs": [
    {
     "name": "stderr",
     "output_type": "stream",
     "text": [
      "C:\\Users\\kreit\\Anaconda3\\envs\\PythonData\\lib\\site-packages\\pandas\\core\\frame.py:3697: SettingWithCopyWarning: \n",
      "A value is trying to be set on a copy of a slice from a DataFrame\n",
      "\n",
      "See the caveats in the documentation: http://pandas.pydata.org/pandas-docs/stable/indexing.html#indexing-view-versus-copy\n",
      "  errors=errors)\n"
     ]
    },
    {
     "data": {
      "text/html": [
       "<div>\n",
       "<style scoped>\n",
       "    .dataframe tbody tr th:only-of-type {\n",
       "        vertical-align: middle;\n",
       "    }\n",
       "\n",
       "    .dataframe tbody tr th {\n",
       "        vertical-align: top;\n",
       "    }\n",
       "\n",
       "    .dataframe thead th {\n",
       "        text-align: right;\n",
       "    }\n",
       "</style>\n",
       "<table border=\"1\" class=\"dataframe\">\n",
       "  <thead>\n",
       "    <tr style=\"text-align: right;\">\n",
       "      <th></th>\n",
       "      <th>close</th>\n",
       "      <th>low</th>\n",
       "      <th>high</th>\n",
       "      <th>volume</th>\n",
       "    </tr>\n",
       "    <tr>\n",
       "      <th>date</th>\n",
       "      <th></th>\n",
       "      <th></th>\n",
       "      <th></th>\n",
       "      <th></th>\n",
       "    </tr>\n",
       "  </thead>\n",
       "  <tbody>\n",
       "    <tr>\n",
       "      <th>2010-01-04</th>\n",
       "      <td>42.009998</td>\n",
       "      <td>41.500000</td>\n",
       "      <td>42.020000</td>\n",
       "      <td>286000.0</td>\n",
       "    </tr>\n",
       "    <tr>\n",
       "      <th>2010-01-05</th>\n",
       "      <td>41.700001</td>\n",
       "      <td>41.439999</td>\n",
       "      <td>41.930000</td>\n",
       "      <td>348900.0</td>\n",
       "    </tr>\n",
       "    <tr>\n",
       "      <th>2010-01-06</th>\n",
       "      <td>41.869999</td>\n",
       "      <td>41.509998</td>\n",
       "      <td>41.970001</td>\n",
       "      <td>375600.0</td>\n",
       "    </tr>\n",
       "    <tr>\n",
       "      <th>2010-01-07</th>\n",
       "      <td>41.549999</td>\n",
       "      <td>41.070000</td>\n",
       "      <td>41.840000</td>\n",
       "      <td>402000.0</td>\n",
       "    </tr>\n",
       "    <tr>\n",
       "      <th>2010-01-08</th>\n",
       "      <td>41.400002</td>\n",
       "      <td>40.980000</td>\n",
       "      <td>41.400002</td>\n",
       "      <td>249000.0</td>\n",
       "    </tr>\n",
       "    <tr>\n",
       "      <th>2010-01-11</th>\n",
       "      <td>41.529999</td>\n",
       "      <td>41.169998</td>\n",
       "      <td>41.619999</td>\n",
       "      <td>249900.0</td>\n",
       "    </tr>\n",
       "    <tr>\n",
       "      <th>2010-01-12</th>\n",
       "      <td>41.419998</td>\n",
       "      <td>41.000000</td>\n",
       "      <td>41.520000</td>\n",
       "      <td>331900.0</td>\n",
       "    </tr>\n",
       "    <tr>\n",
       "      <th>2010-01-13</th>\n",
       "      <td>42.110001</td>\n",
       "      <td>41.369999</td>\n",
       "      <td>42.150002</td>\n",
       "      <td>295900.0</td>\n",
       "    </tr>\n",
       "    <tr>\n",
       "      <th>2010-01-14</th>\n",
       "      <td>42.119999</td>\n",
       "      <td>41.830002</td>\n",
       "      <td>42.200001</td>\n",
       "      <td>278600.0</td>\n",
       "    </tr>\n",
       "    <tr>\n",
       "      <th>2010-01-15</th>\n",
       "      <td>42.020000</td>\n",
       "      <td>41.750000</td>\n",
       "      <td>42.220001</td>\n",
       "      <td>447800.0</td>\n",
       "    </tr>\n",
       "    <tr>\n",
       "      <th>2010-01-19</th>\n",
       "      <td>42.759998</td>\n",
       "      <td>41.930000</td>\n",
       "      <td>42.759998</td>\n",
       "      <td>272800.0</td>\n",
       "    </tr>\n",
       "    <tr>\n",
       "      <th>2010-01-20</th>\n",
       "      <td>42.119999</td>\n",
       "      <td>41.389999</td>\n",
       "      <td>42.389999</td>\n",
       "      <td>757700.0</td>\n",
       "    </tr>\n",
       "    <tr>\n",
       "      <th>2010-01-21</th>\n",
       "      <td>41.680000</td>\n",
       "      <td>41.660000</td>\n",
       "      <td>42.900002</td>\n",
       "      <td>479800.0</td>\n",
       "    </tr>\n",
       "    <tr>\n",
       "      <th>2010-01-22</th>\n",
       "      <td>40.950001</td>\n",
       "      <td>40.900002</td>\n",
       "      <td>41.759998</td>\n",
       "      <td>536600.0</td>\n",
       "    </tr>\n",
       "    <tr>\n",
       "      <th>2010-01-25</th>\n",
       "      <td>40.869999</td>\n",
       "      <td>40.720001</td>\n",
       "      <td>41.410000</td>\n",
       "      <td>287900.0</td>\n",
       "    </tr>\n",
       "    <tr>\n",
       "      <th>2010-01-26</th>\n",
       "      <td>40.299999</td>\n",
       "      <td>40.230000</td>\n",
       "      <td>40.869999</td>\n",
       "      <td>335900.0</td>\n",
       "    </tr>\n",
       "    <tr>\n",
       "      <th>2010-01-27</th>\n",
       "      <td>40.279999</td>\n",
       "      <td>39.779999</td>\n",
       "      <td>40.570000</td>\n",
       "      <td>286400.0</td>\n",
       "    </tr>\n",
       "    <tr>\n",
       "      <th>2010-01-28</th>\n",
       "      <td>40.000000</td>\n",
       "      <td>39.279999</td>\n",
       "      <td>40.490002</td>\n",
       "      <td>560100.0</td>\n",
       "    </tr>\n",
       "    <tr>\n",
       "      <th>2010-01-29</th>\n",
       "      <td>39.770000</td>\n",
       "      <td>39.770000</td>\n",
       "      <td>40.750000</td>\n",
       "      <td>431000.0</td>\n",
       "    </tr>\n",
       "    <tr>\n",
       "      <th>2010-02-01</th>\n",
       "      <td>40.410000</td>\n",
       "      <td>39.830002</td>\n",
       "      <td>40.439999</td>\n",
       "      <td>386200.0</td>\n",
       "    </tr>\n",
       "  </tbody>\n",
       "</table>\n",
       "</div>"
      ],
      "text/plain": [
       "                close        low       high    volume\n",
       "date                                                 \n",
       "2010-01-04  42.009998  41.500000  42.020000  286000.0\n",
       "2010-01-05  41.700001  41.439999  41.930000  348900.0\n",
       "2010-01-06  41.869999  41.509998  41.970001  375600.0\n",
       "2010-01-07  41.549999  41.070000  41.840000  402000.0\n",
       "2010-01-08  41.400002  40.980000  41.400002  249000.0\n",
       "2010-01-11  41.529999  41.169998  41.619999  249900.0\n",
       "2010-01-12  41.419998  41.000000  41.520000  331900.0\n",
       "2010-01-13  42.110001  41.369999  42.150002  295900.0\n",
       "2010-01-14  42.119999  41.830002  42.200001  278600.0\n",
       "2010-01-15  42.020000  41.750000  42.220001  447800.0\n",
       "2010-01-19  42.759998  41.930000  42.759998  272800.0\n",
       "2010-01-20  42.119999  41.389999  42.389999  757700.0\n",
       "2010-01-21  41.680000  41.660000  42.900002  479800.0\n",
       "2010-01-22  40.950001  40.900002  41.759998  536600.0\n",
       "2010-01-25  40.869999  40.720001  41.410000  287900.0\n",
       "2010-01-26  40.299999  40.230000  40.869999  335900.0\n",
       "2010-01-27  40.279999  39.779999  40.570000  286400.0\n",
       "2010-01-28  40.000000  39.279999  40.490002  560100.0\n",
       "2010-01-29  39.770000  39.770000  40.750000  431000.0\n",
       "2010-02-01  40.410000  39.830002  40.439999  386200.0"
      ]
     },
     "execution_count": 9,
     "metadata": {},
     "output_type": "execute_result"
    }
   ],
   "source": [
    "IFF_df = df.loc['IFF', :]\n",
    "IFF_df.set_index('date', inplace=True)\n",
    "IFF_df.drop('open', axis=1, inplace=True)\n",
    "IFF_df.head(20)"
   ]
  },
  {
   "cell_type": "code",
   "execution_count": 11,
   "metadata": {},
   "outputs": [
    {
     "data": {
      "text/plain": [
       "DatetimeIndex(['2010-01-04', '2010-01-05', '2010-01-06', '2010-01-07',\n",
       "               '2010-01-08', '2010-01-11', '2010-01-12', '2010-01-13',\n",
       "               '2010-01-14', '2010-01-15',\n",
       "               ...\n",
       "               '2016-12-16', '2016-12-19', '2016-12-20', '2016-12-21',\n",
       "               '2016-12-22', '2016-12-23', '2016-12-27', '2016-12-28',\n",
       "               '2016-12-29', '2016-12-30'],\n",
       "              dtype='datetime64[ns]', name='date', length=1762, freq=None)"
      ]
     },
     "execution_count": 11,
     "metadata": {},
     "output_type": "execute_result"
    }
   ],
   "source": [
    "IFF_df.index"
   ]
  },
  {
   "cell_type": "code",
   "execution_count": 37,
   "metadata": {},
   "outputs": [
    {
     "data": {
      "text/plain": [
       "array([[4.20099980e+01, 4.15000000e+01, 4.20200000e+01, 2.86000000e+05],\n",
       "       [4.17000010e+01, 4.14399990e+01, 4.19300000e+01, 3.48900000e+05],\n",
       "       [4.18699990e+01, 4.15099980e+01, 4.19700010e+01, 3.75600000e+05],\n",
       "       ...,\n",
       "       [1.18800003e+02, 1.18599998e+02, 1.19559998e+02, 4.04600000e+05],\n",
       "       [1.18900002e+02, 1.18650002e+02, 1.19209999e+02, 4.13300000e+05],\n",
       "       [1.17830002e+02, 1.17529999e+02, 1.19300003e+02, 5.04500000e+05]])"
      ]
     },
     "execution_count": 37,
     "metadata": {},
     "output_type": "execute_result"
    }
   ],
   "source": [
    "dataset1 = IFF_df.values\n",
    "dataset1"
   ]
  },
  {
   "cell_type": "code",
   "execution_count": 32,
   "metadata": {},
   "outputs": [],
   "source": [
    "scaler1 = MinMaxScaler(feature_range=(0, 1))\n",
    "scaled_data1 = scaler1.fit_transform(dataset1)"
   ]
  },
  {
   "cell_type": "code",
   "execution_count": 39,
   "metadata": {},
   "outputs": [],
   "source": [
    "X1_test, y1_test = [], []\n",
    "for i in range(30,len(IFF_df)):\n",
    "    X1_test.append(scaled_data1[i-30:i,0:4])\n",
    "    y1_test.append(scaled_data1[i,0])\n",
    "X1_test, y1_test = np.array(X1_test), np.array(y1_test)"
   ]
  },
  {
   "cell_type": "code",
   "execution_count": 40,
   "metadata": {},
   "outputs": [
    {
     "data": {
      "text/plain": [
       "(1732, 30, 4)"
      ]
     },
     "execution_count": 40,
     "metadata": {},
     "output_type": "execute_result"
    }
   ],
   "source": [
    "X1_test.shape"
   ]
  },
  {
   "cell_type": "code",
   "execution_count": 41,
   "metadata": {},
   "outputs": [],
   "source": [
    "closing_price1 = model.predict(X1_test)"
   ]
  },
  {
   "cell_type": "code",
   "execution_count": 42,
   "metadata": {},
   "outputs": [],
   "source": [
    "final1 = []\n",
    "for price in closing_price1:\n",
    "    final1.append(np.pad(price, (0, 3), 'constant'))\n",
    "final_price1 = scaler1.inverse_transform(final1)\n",
    "close1 = []\n",
    "for price in final_price1:\n",
    "    close1.append(price[0])\n"
   ]
  },
  {
   "cell_type": "code",
   "execution_count": 44,
   "metadata": {},
   "outputs": [
    {
     "data": {
      "text/plain": [
       "1732"
      ]
     },
     "execution_count": 44,
     "metadata": {},
     "output_type": "execute_result"
    }
   ],
   "source": [
    "len(close1)"
   ]
  },
  {
   "cell_type": "code",
   "execution_count": 46,
   "metadata": {},
   "outputs": [
    {
     "data": {
      "text/plain": [
       "1732"
      ]
     },
     "execution_count": 46,
     "metadata": {},
     "output_type": "execute_result"
    }
   ],
   "source": [
    "valid = IFF_df[30:]\n",
    "len(valid)"
   ]
  },
  {
   "cell_type": "code",
   "execution_count": 47,
   "metadata": {},
   "outputs": [
    {
     "name": "stderr",
     "output_type": "stream",
     "text": [
      "C:\\Users\\kreit\\Anaconda3\\envs\\PythonData\\lib\\site-packages\\ipykernel_launcher.py:1: SettingWithCopyWarning: \n",
      "A value is trying to be set on a copy of a slice from a DataFrame.\n",
      "Try using .loc[row_indexer,col_indexer] = value instead\n",
      "\n",
      "See the caveats in the documentation: http://pandas.pydata.org/pandas-docs/stable/indexing.html#indexing-view-versus-copy\n",
      "  \"\"\"Entry point for launching an IPython kernel.\n"
     ]
    },
    {
     "data": {
      "text/plain": [
       "[<matplotlib.lines.Line2D at 0x2599c460a20>,\n",
       " <matplotlib.lines.Line2D at 0x2599c927898>]"
      ]
     },
     "execution_count": 47,
     "metadata": {},
     "output_type": "execute_result"
    },
    {
     "data": {
      "image/png": "[encoded data removed]",
      "text/plain": [
       "<Figure size 1152x576 with 1 Axes>"
      ]
     },
     "metadata": {
      "needs_background": "light"
     },
     "output_type": "display_data"
    }
   ],
   "source": [
    "valid['Predictions'] = close1\n",
    "plt.figure(figsize=(16,8))\n",
    "#plt.plot(train['close'])\n",
    "plt.plot(valid[['close','Predictions']])"
   ]
  },
  {
   "cell_type": "code",
   "execution_count": 10,
   "metadata": {},
   "outputs": [],
   "source": [
    "MSFT_df = df.loc['MSFT', :]"
   ]
  },
  {
   "cell_type": "code",
   "execution_count": 11,
   "metadata": {},
   "outputs": [],
   "source": [
    "MSFT_df.set_index('date', inplace=True)"
   ]
  },
  {
   "cell_type": "code",
   "execution_count": 12,
   "metadata": {},
   "outputs": [
    {
     "name": "stderr",
     "output_type": "stream",
     "text": [
      "C:\\Users\\kreit\\Anaconda3\\envs\\PythonData\\lib\\site-packages\\pandas\\core\\frame.py:3697: SettingWithCopyWarning: \n",
      "A value is trying to be set on a copy of a slice from a DataFrame\n",
      "\n",
      "See the caveats in the documentation: http://pandas.pydata.org/pandas-docs/stable/indexing.html#indexing-view-versus-copy\n",
      "  errors=errors)\n"
     ]
    }
   ],
   "source": [
    "MSFT_df.drop('open', axis=1, inplace=True)"
   ]
  },
  {
   "cell_type": "code",
   "execution_count": 13,
   "metadata": {},
   "outputs": [
    {
     "data": {
      "text/plain": [
       "[<matplotlib.lines.Line2D at 0x25991415e10>]"
      ]
     },
     "execution_count": 13,
     "metadata": {},
     "output_type": "execute_result"
    },
    {
     "data": {
      "image/png": "[encoded data removed]",
      "text/plain": [
       "<Figure size 1152x576 with 1 Axes>"
      ]
     },
     "metadata": {
      "needs_background": "light"
     },
     "output_type": "display_data"
    }
   ],
   "source": [
    "plt.figure(figsize=(16,8))\n",
    "plt.plot(MSFT_df['close'], label='Close Price history')"
   ]
  },
  {
   "cell_type": "code",
   "execution_count": 38,
   "metadata": {},
   "outputs": [
    {
     "data": {
      "text/html": [
       "<div>\n",
       "<style scoped>\n",
       "    .dataframe tbody tr th:only-of-type {\n",
       "        vertical-align: middle;\n",
       "    }\n",
       "\n",
       "    .dataframe tbody tr th {\n",
       "        vertical-align: top;\n",
       "    }\n",
       "\n",
       "    .dataframe thead th {\n",
       "        text-align: right;\n",
       "    }\n",
       "</style>\n",
       "<table border=\"1\" class=\"dataframe\">\n",
       "  <thead>\n",
       "    <tr style=\"text-align: right;\">\n",
       "      <th></th>\n",
       "      <th>close</th>\n",
       "      <th>low</th>\n",
       "      <th>high</th>\n",
       "      <th>volume</th>\n",
       "    </tr>\n",
       "    <tr>\n",
       "      <th>date</th>\n",
       "      <th></th>\n",
       "      <th></th>\n",
       "      <th></th>\n",
       "      <th></th>\n",
       "    </tr>\n",
       "  </thead>\n",
       "  <tbody>\n",
       "    <tr>\n",
       "      <th>2010-01-04</th>\n",
       "      <td>30.950001</td>\n",
       "      <td>30.590000</td>\n",
       "      <td>31.100000</td>\n",
       "      <td>38409100.0</td>\n",
       "    </tr>\n",
       "    <tr>\n",
       "      <th>2010-01-05</th>\n",
       "      <td>30.959999</td>\n",
       "      <td>30.639999</td>\n",
       "      <td>31.100000</td>\n",
       "      <td>49749600.0</td>\n",
       "    </tr>\n",
       "    <tr>\n",
       "      <th>2010-01-06</th>\n",
       "      <td>30.770000</td>\n",
       "      <td>30.520000</td>\n",
       "      <td>31.080000</td>\n",
       "      <td>58182400.0</td>\n",
       "    </tr>\n",
       "    <tr>\n",
       "      <th>2010-01-07</th>\n",
       "      <td>30.450001</td>\n",
       "      <td>30.190001</td>\n",
       "      <td>30.700001</td>\n",
       "      <td>50559700.0</td>\n",
       "    </tr>\n",
       "    <tr>\n",
       "      <th>2010-01-08</th>\n",
       "      <td>30.660000</td>\n",
       "      <td>30.240000</td>\n",
       "      <td>30.879999</td>\n",
       "      <td>51197400.0</td>\n",
       "    </tr>\n",
       "  </tbody>\n",
       "</table>\n",
       "</div>"
      ],
      "text/plain": [
       "                close        low       high      volume\n",
       "date                                                   \n",
       "2010-01-04  30.950001  30.590000  31.100000  38409100.0\n",
       "2010-01-05  30.959999  30.639999  31.100000  49749600.0\n",
       "2010-01-06  30.770000  30.520000  31.080000  58182400.0\n",
       "2010-01-07  30.450001  30.190001  30.700001  50559700.0\n",
       "2010-01-08  30.660000  30.240000  30.879999  51197400.0"
      ]
     },
     "execution_count": 38,
     "metadata": {},
     "output_type": "execute_result"
    }
   ],
   "source": [
    "MSFT_df.head()"
   ]
  },
  {
   "cell_type": "code",
   "execution_count": 15,
   "metadata": {},
   "outputs": [
    {
     "data": {
      "text/plain": [
       "array([[3.0950001e+01, 3.0590000e+01, 3.1100000e+01, 3.8409100e+07],\n",
       "       [3.0959999e+01, 3.0639999e+01, 3.1100000e+01, 4.9749600e+07],\n",
       "       [3.0770000e+01, 3.0520000e+01, 3.1080000e+01, 5.8182400e+07],\n",
       "       ...,\n",
       "       [6.2990002e+01, 6.2830002e+01, 6.3400002e+01, 1.4653300e+07],\n",
       "       [6.2900002e+01, 6.2730000e+01, 6.3200001e+01, 1.0250600e+07],\n",
       "       [6.2139999e+01, 6.2029999e+01, 6.2990002e+01, 2.5579900e+07]])"
      ]
     },
     "execution_count": 15,
     "metadata": {},
     "output_type": "execute_result"
    }
   ],
   "source": [
    "dataset = MSFT_df.values\n",
    "dataset"
   ]
  },
  {
   "cell_type": "code",
   "execution_count": 16,
   "metadata": {},
   "outputs": [
    {
     "data": {
      "text/plain": [
       "array([[3.0950001e+01, 3.0590000e+01, 3.1100000e+01, 3.8409100e+07],\n",
       "       [3.0959999e+01, 3.0639999e+01, 3.1100000e+01, 4.9749600e+07],\n",
       "       [3.0770000e+01, 3.0520000e+01, 3.1080000e+01, 5.8182400e+07],\n",
       "       ...,\n",
       "       [3.8130001e+01, 3.7820000e+01, 3.8290001e+01, 2.2090400e+07],\n",
       "       [3.8450001e+01, 3.8060001e+01, 3.8779999e+01, 4.2950400e+07],\n",
       "       [3.8310001e+01, 3.8080002e+01, 3.8490002e+01, 5.2109800e+07]])"
      ]
     },
     "execution_count": 16,
     "metadata": {},
     "output_type": "execute_result"
    }
   ],
   "source": [
    "train = dataset[0:987,:]\n",
    "valid = dataset[987:,:]\n",
    "train"
   ]
  },
  {
   "cell_type": "code",
   "execution_count": 17,
   "metadata": {},
   "outputs": [],
   "source": [
    "scaler = MinMaxScaler(feature_range=(0, 1))\n",
    "scaled_data = scaler.fit_transform(dataset)"
   ]
  },
  {
   "cell_type": "code",
   "execution_count": 18,
   "metadata": {},
   "outputs": [],
   "source": [
    "x_train, y_train = [], []\n",
    "for i in range(30,len(train)):\n",
    "    x_train.append(scaled_data[i-30:i,0:4])\n",
    "    y_train.append(scaled_data[i,0])\n",
    "x_train, y_train = np.array(x_train), np.array(y_train)"
   ]
  },
  {
   "cell_type": "code",
   "execution_count": 19,
   "metadata": {},
   "outputs": [
    {
     "data": {
      "text/plain": [
       "(957, 30, 4)"
      ]
     },
     "execution_count": 19,
     "metadata": {},
     "output_type": "execute_result"
    }
   ],
   "source": [
    "x_train.shape"
   ]
  },
  {
   "cell_type": "code",
   "execution_count": 20,
   "metadata": {},
   "outputs": [
    {
     "name": "stdout",
     "output_type": "stream",
     "text": [
      "WARNING:tensorflow:From C:\\Users\\kreit\\Anaconda3\\envs\\PythonData\\lib\\site-packages\\tensorflow\\python\\framework\\op_def_library.py:263: colocate_with (from tensorflow.python.framework.ops) is deprecated and will be removed in a future version.\n",
      "Instructions for updating:\n",
      "Colocations handled automatically by placer.\n"
     ]
    }
   ],
   "source": [
    "model = Sequential()\n",
    "model.add(LSTM(units=50, return_sequences=True, input_shape=(x_train.shape[1],4)))\n",
    "model.add(LSTM(units=50))\n",
    "model.add(Dense(1))\n",
    "model.compile(loss='mean_squared_error', optimizer='adam')"
   ]
  },
  {
   "cell_type": "code",
   "execution_count": 21,
   "metadata": {},
   "outputs": [
    {
     "name": "stdout",
     "output_type": "stream",
     "text": [
      "WARNING:tensorflow:From C:\\Users\\kreit\\Anaconda3\\envs\\PythonData\\lib\\site-packages\\tensorflow\\python\\ops\\math_ops.py:3066: to_int32 (from tensorflow.python.ops.math_ops) is deprecated and will be removed in a future version.\n",
      "Instructions for updating:\n",
      "Use tf.cast instead.\n",
      "Epoch 1/1\n",
      " - 30s - loss: 5.6841e-04\n"
     ]
    },
    {
     "data": {
      "text/plain": [
       "<keras.callbacks.History at 0x2599156ac88>"
      ]
     },
     "execution_count": 21,
     "metadata": {},
     "output_type": "execute_result"
    }
   ],
   "source": [
    "\n",
    "model.fit(x_train, y_train, epochs=1, batch_size=1, verbose=2)"
   ]
  },
  {
   "cell_type": "code",
   "execution_count": 22,
   "metadata": {},
   "outputs": [],
   "source": [
    "X_test, y_test = [], []\n",
    "for i in range(987,len(MSFT_df)):\n",
    "    X_test.append(scaled_data[i-30:i,0:4])\n",
    "    y_test.append(scaled_data[i,0])\n",
    "X_test, y_test = np.array(X_test), np.array(y_test)"
   ]
  },
  {
   "cell_type": "code",
   "execution_count": 23,
   "metadata": {
    "scrolled": true
   },
   "outputs": [
    {
     "data": {
      "text/plain": [
       "(775, 30, 4)"
      ]
     },
     "execution_count": 23,
     "metadata": {},
     "output_type": "execute_result"
    }
   ],
   "source": [
    "X_test.shape"
   ]
  },
  {
   "cell_type": "code",
   "execution_count": null,
   "metadata": {},
   "outputs": [],
   "source": []
  },
  {
   "cell_type": "code",
   "execution_count": null,
   "metadata": {},
   "outputs": [],
   "source": []
  },
  {
   "cell_type": "code",
   "execution_count": 24,
   "metadata": {},
   "outputs": [],
   "source": [
    "closing_price = model.predict(X_test)"
   ]
  },
  {
   "cell_type": "code",
   "execution_count": 25,
   "metadata": {},
   "outputs": [],
   "source": [
    "final = []\n",
    "for price in closing_price:\n",
    "    final.append(np.pad(price, (0, 3), 'constant'))\n"
   ]
  },
  {
   "cell_type": "code",
   "execution_count": 26,
   "metadata": {},
   "outputs": [],
   "source": [
    "final_price = scaler.inverse_transform(final)"
   ]
  },
  {
   "cell_type": "code",
   "execution_count": 27,
   "metadata": {},
   "outputs": [],
   "source": [
    "close = []\n",
    "for price in final_price:\n",
    "    close.append(price[0])\n"
   ]
  },
  {
   "cell_type": "code",
   "execution_count": 28,
   "metadata": {},
   "outputs": [
    {
     "name": "stderr",
     "output_type": "stream",
     "text": [
      "C:\\Users\\kreit\\Anaconda3\\envs\\PythonData\\lib\\site-packages\\ipykernel_launcher.py:3: SettingWithCopyWarning: \n",
      "A value is trying to be set on a copy of a slice from a DataFrame.\n",
      "Try using .loc[row_indexer,col_indexer] = value instead\n",
      "\n",
      "See the caveats in the documentation: http://pandas.pydata.org/pandas-docs/stable/indexing.html#indexing-view-versus-copy\n",
      "  This is separate from the ipykernel package so we can avoid doing imports until\n"
     ]
    },
    {
     "data": {
      "text/plain": [
       "[<matplotlib.lines.Line2D at 0x2599943cf28>,\n",
       " <matplotlib.lines.Line2D at 0x2599c3e4ef0>]"
      ]
     },
     "execution_count": 28,
     "metadata": {},
     "output_type": "execute_result"
    },
    {
     "data": {
      "image/png": "[encoded data removed]",
      "text/plain": [
       "<Figure size 1152x576 with 1 Axes>"
      ]
     },
     "metadata": {
      "needs_background": "light"
     },
     "output_type": "display_data"
    }
   ],
   "source": [
    "train = MSFT_df[:987]\n",
    "valid = MSFT_df[987:]\n",
    "valid['Predictions'] = close\n",
    "plt.figure(figsize=(16,8))\n",
    "#plt.plot(train['close'])\n",
    "plt.plot(valid[['close','Predictions']])"
   ]
  },
  {
   "cell_type": "code",
   "execution_count": null,
   "metadata": {},
   "outputs": [],
   "source": [
    "close"
   ]
  },
  {
   "cell_type": "code",
   "execution_count": 41,
   "metadata": {},
   "outputs": [
    {
     "data": {
      "text/plain": [
       "75"
      ]
     },
     "execution_count": 41,
     "metadata": {},
     "output_type": "execute_result"
    }
   ],
   "source": [
    "new_valid = valid[700:]\n",
    "len(new_valid)"
   ]
  },
  {
   "cell_type": "code",
   "execution_count": 46,
   "metadata": {},
   "outputs": [
    {
     "name": "stderr",
     "output_type": "stream",
     "text": [
      "C:\\Users\\kreit\\Anaconda3\\envs\\PythonData\\lib\\site-packages\\ipykernel_launcher.py:1: SettingWithCopyWarning: \n",
      "A value is trying to be set on a copy of a slice from a DataFrame.\n",
      "Try using .loc[row_indexer,col_indexer] = value instead\n",
      "\n",
      "See the caveats in the documentation: http://pandas.pydata.org/pandas-docs/stable/indexing.html#indexing-view-versus-copy\n",
      "  \"\"\"Entry point for launching an IPython kernel.\n"
     ]
    },
    {
     "data": {
      "text/html": [
       "<div>\n",
       "<style scoped>\n",
       "    .dataframe tbody tr th:only-of-type {\n",
       "        vertical-align: middle;\n",
       "    }\n",
       "\n",
       "    .dataframe tbody tr th {\n",
       "        vertical-align: top;\n",
       "    }\n",
       "\n",
       "    .dataframe thead th {\n",
       "        text-align: right;\n",
       "    }\n",
       "</style>\n",
       "<table border=\"1\" class=\"dataframe\">\n",
       "  <thead>\n",
       "    <tr style=\"text-align: right;\">\n",
       "      <th></th>\n",
       "      <th>close</th>\n",
       "      <th>low</th>\n",
       "      <th>high</th>\n",
       "      <th>volume</th>\n",
       "      <th>Predictions</th>\n",
       "      <th>error</th>\n",
       "    </tr>\n",
       "    <tr>\n",
       "      <th>date</th>\n",
       "      <th></th>\n",
       "      <th></th>\n",
       "      <th></th>\n",
       "      <th></th>\n",
       "      <th></th>\n",
       "      <th></th>\n",
       "    </tr>\n",
       "  </thead>\n",
       "  <tbody>\n",
       "    <tr>\n",
       "      <th>2013-12-04</th>\n",
       "      <td>38.939999</td>\n",
       "      <td>38.119999</td>\n",
       "      <td>38.980000</td>\n",
       "      <td>51983600.0</td>\n",
       "      <td>38.037044</td>\n",
       "      <td>-0.902955</td>\n",
       "    </tr>\n",
       "    <tr>\n",
       "      <th>2013-12-05</th>\n",
       "      <td>38.000000</td>\n",
       "      <td>37.180000</td>\n",
       "      <td>38.880001</td>\n",
       "      <td>116305000.0</td>\n",
       "      <td>38.164657</td>\n",
       "      <td>0.164657</td>\n",
       "    </tr>\n",
       "    <tr>\n",
       "      <th>2013-12-06</th>\n",
       "      <td>38.360001</td>\n",
       "      <td>37.990002</td>\n",
       "      <td>38.549999</td>\n",
       "      <td>36457300.0</td>\n",
       "      <td>37.927141</td>\n",
       "      <td>-0.432860</td>\n",
       "    </tr>\n",
       "    <tr>\n",
       "      <th>2013-12-09</th>\n",
       "      <td>38.709999</td>\n",
       "      <td>38.369999</td>\n",
       "      <td>38.869999</td>\n",
       "      <td>30286000.0</td>\n",
       "      <td>37.967916</td>\n",
       "      <td>-0.742083</td>\n",
       "    </tr>\n",
       "    <tr>\n",
       "      <th>2013-12-10</th>\n",
       "      <td>38.110001</td>\n",
       "      <td>38.020000</td>\n",
       "      <td>38.900002</td>\n",
       "      <td>37828600.0</td>\n",
       "      <td>38.165903</td>\n",
       "      <td>0.055902</td>\n",
       "    </tr>\n",
       "  </tbody>\n",
       "</table>\n",
       "</div>"
      ],
      "text/plain": [
       "                close        low       high       volume  Predictions  \\\n",
       "date                                                                    \n",
       "2013-12-04  38.939999  38.119999  38.980000   51983600.0    38.037044   \n",
       "2013-12-05  38.000000  37.180000  38.880001  116305000.0    38.164657   \n",
       "2013-12-06  38.360001  37.990002  38.549999   36457300.0    37.927141   \n",
       "2013-12-09  38.709999  38.369999  38.869999   30286000.0    37.967916   \n",
       "2013-12-10  38.110001  38.020000  38.900002   37828600.0    38.165903   \n",
       "\n",
       "               error  \n",
       "date                  \n",
       "2013-12-04 -0.902955  \n",
       "2013-12-05  0.164657  \n",
       "2013-12-06 -0.432860  \n",
       "2013-12-09 -0.742083  \n",
       "2013-12-10  0.055902  "
      ]
     },
     "execution_count": 46,
     "metadata": {},
     "output_type": "execute_result"
    }
   ],
   "source": [
    "valid['error'] = valid.loc[:, 'Predictions'] - valid.loc[:, 'close']\n",
    "valid.head()"
   ]
  },
  {
   "cell_type": "code",
   "execution_count": 47,
   "metadata": {},
   "outputs": [
    {
     "data": {
      "text/plain": [
       "-0.14615097923861958"
      ]
     },
     "execution_count": 47,
     "metadata": {},
     "output_type": "execute_result"
    }
   ],
   "source": [
    "valid['error'].mean()"
   ]
  },
  {
   "cell_type": "code",
   "execution_count": null,
   "metadata": {},
   "outputs": [],
   "source": []
  }
 ],
 "metadata": {
  "kernelspec": {
   "display_name": "Python 3",
   "language": "python",
   "name": "python3"
  },
  "language_info": {
   "codemirror_mode": {
    "name": "ipython",
    "version": 3
   },
   "file_extension": ".py",
   "mimetype": "text/x-python",
   "name": "python",
   "nbconvert_exporter": "python",
   "pygments_lexer": "ipython3",
   "version": "3.6.6"
  }
 },
 "nbformat": 4,
 "nbformat_minor": 2
}
