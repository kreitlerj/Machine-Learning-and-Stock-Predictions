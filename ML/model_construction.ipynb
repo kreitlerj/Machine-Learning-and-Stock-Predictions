{
 "cells": [
  {
   "cell_type": "code",
   "execution_count": 17,
   "metadata": {},
   "outputs": [],
   "source": [
    "# Dependencies\n",
    "%matplotlib inline\n",
    "import matplotlib.pyplot as plt\n",
    "import numpy as np\n",
    "import pandas as pd\n",
    "import random\n",
    "from sklearn.preprocessing import MinMaxScaler\n",
    "from keras.models import Sequential\n",
    "from keras.layers import Dense, Dropout, LSTM"
   ]
  },
  {
   "cell_type": "code",
   "execution_count": 18,
   "metadata": {},
   "outputs": [],
   "source": [
    "df = pd.read_csv(\"Resources/prices.csv\")"
   ]
  },
  {
   "cell_type": "code",
   "execution_count": 19,
   "metadata": {},
   "outputs": [
    {
     "data": {
      "text/plain": [
       "Index(['SYMC', 'IFF', 'ILMN', 'INTC', 'INTU', 'IP', 'IPG', 'IR', 'IRM', 'IDXX',\n",
       "       ...\n",
       "       'NAVI', 'QRVO', 'CFG', 'WRK', 'KHC', 'PYPL', 'HPE', 'CSRA', 'WLTW',\n",
       "       'FTV'],\n",
       "      dtype='object', name='symbol', length=501)"
      ]
     },
     "execution_count": 19,
     "metadata": {},
     "output_type": "execute_result"
    }
   ],
   "source": [
    "df['date'] = pd.to_datetime(df.date,format='%Y-%m-%d')\n",
    "df.set_index('symbol', inplace=True)\n",
    "df = df.sort_values('date')\n",
    "tickers = df.index.unique()\n",
    "tickers"
   ]
  },
  {
   "cell_type": "code",
   "execution_count": 20,
   "metadata": {},
   "outputs": [],
   "source": [
    "sample_num = random.sample(range(0, 501), 5)"
   ]
  },
  {
   "cell_type": "code",
   "execution_count": 22,
   "metadata": {},
   "outputs": [],
   "source": [
    "test_tickers = []\n",
    "for num in sample_num:\n",
    "    test_tickers.append(tickers[num])"
   ]
  },
  {
   "cell_type": "code",
   "execution_count": null,
   "metadata": {},
   "outputs": [],
   "source": [
    "model_sixty_day = Sequential()\n",
    "model_sixty_day.add(LSTM(units=50, return_sequences=True, input_shape=(60,4)))\n",
    "model_sixty_day.add(LSTM(units=50))\n",
    "model_sixty_day.add(Dense(1))\n",
    "model_sixty_day.compile(loss='mean_squared_error', optimizer='adam')"
   ]
  },
  {
   "cell_type": "code",
   "execution_count": null,
   "metadata": {},
   "outputs": [],
   "source": [
    "model_thirty_day = Sequential()\n",
    "model_thirty_day.add(LSTM(units=50, return_sequences=True, input_shape=(30,4)))\n",
    "model_thirty_day.add(LSTM(units=50))\n",
    "model_thirty_day.add(Dense(1))\n",
    "model_thirty_day.compile(loss='mean_squared_error', optimizer='adam')"
   ]
  },
  {
   "cell_type": "code",
   "execution_count": 25,
   "metadata": {},
   "outputs": [],
   "source": [
    "model_ten_day = Sequential()\n",
    "model_ten_day.add(LSTM(units=50, return_sequences=True, input_shape=(10,4)))\n",
    "model_ten_day.add(LSTM(units=50))\n",
    "model_ten_day.add(Dense(1))\n",
    "model_ten_day.compile(loss='mean_squared_error', optimizer='adam')"
   ]
  },
  {
   "cell_type": "code",
   "execution_count": 7,
   "metadata": {},
   "outputs": [
    {
     "data": {
      "text/plain": [
       "['HSIC', 'PSX', 'TWX', 'TMK', 'HRS']"
      ]
     },
     "execution_count": 7,
     "metadata": {},
     "output_type": "execute_result"
    }
   ],
   "source": [
    "test_tickers"
   ]
  },
  {
   "cell_type": "code",
   "execution_count": 8,
   "metadata": {},
   "outputs": [
    {
     "name": "stderr",
     "output_type": "stream",
     "text": [
      "C:\\Users\\kreit\\Anaconda3\\envs\\PythonData\\lib\\site-packages\\pandas\\core\\frame.py:3697: SettingWithCopyWarning: \n",
      "A value is trying to be set on a copy of a slice from a DataFrame\n",
      "\n",
      "See the caveats in the documentation: http://pandas.pydata.org/pandas-docs/stable/indexing.html#indexing-view-versus-copy\n",
      "  errors=errors)\n"
     ]
    },
    {
     "ename": "NameError",
     "evalue": "name 'model_sixty_day' is not defined",
     "output_type": "error",
     "traceback": [
      "\u001b[1;31m---------------------------------------------------------------------------\u001b[0m",
      "\u001b[1;31mNameError\u001b[0m                                 Traceback (most recent call last)",
      "\u001b[1;32m<ipython-input-8-468d68565647>\u001b[0m in \u001b[0;36m<module>\u001b[1;34m()\u001b[0m\n\u001b[0;32m     11\u001b[0m         \u001b[0my_train_sixty\u001b[0m\u001b[1;33m.\u001b[0m\u001b[0mappend\u001b[0m\u001b[1;33m(\u001b[0m\u001b[0mscaled_data\u001b[0m\u001b[1;33m[\u001b[0m\u001b[0mi\u001b[0m\u001b[1;33m,\u001b[0m\u001b[1;36m0\u001b[0m\u001b[1;33m]\u001b[0m\u001b[1;33m)\u001b[0m\u001b[1;33m\u001b[0m\u001b[0m\n\u001b[0;32m     12\u001b[0m     \u001b[0mX_train_sixty\u001b[0m\u001b[1;33m,\u001b[0m \u001b[0my_train_sixty\u001b[0m \u001b[1;33m=\u001b[0m \u001b[0mnp\u001b[0m\u001b[1;33m.\u001b[0m\u001b[0marray\u001b[0m\u001b[1;33m(\u001b[0m\u001b[0mX_train_sixty\u001b[0m\u001b[1;33m)\u001b[0m\u001b[1;33m,\u001b[0m \u001b[0mnp\u001b[0m\u001b[1;33m.\u001b[0m\u001b[0marray\u001b[0m\u001b[1;33m(\u001b[0m\u001b[0my_train_sixty\u001b[0m\u001b[1;33m)\u001b[0m\u001b[1;33m\u001b[0m\u001b[0m\n\u001b[1;32m---> 13\u001b[1;33m     \u001b[0mmodel_sixty_day\u001b[0m\u001b[1;33m.\u001b[0m\u001b[0mfit\u001b[0m\u001b[1;33m(\u001b[0m\u001b[0mX_train_sixty\u001b[0m\u001b[1;33m,\u001b[0m \u001b[0my_train_sixty\u001b[0m\u001b[1;33m,\u001b[0m \u001b[0mepochs\u001b[0m\u001b[1;33m=\u001b[0m\u001b[1;36m1\u001b[0m\u001b[1;33m,\u001b[0m \u001b[0mbatch_size\u001b[0m\u001b[1;33m=\u001b[0m\u001b[1;36m1\u001b[0m\u001b[1;33m,\u001b[0m \u001b[0mverbose\u001b[0m\u001b[1;33m=\u001b[0m\u001b[1;36m2\u001b[0m\u001b[1;33m)\u001b[0m\u001b[1;33m\u001b[0m\u001b[0m\n\u001b[0m",
      "\u001b[1;31mNameError\u001b[0m: name 'model_sixty_day' is not defined"
     ]
    }
   ],
   "source": [
    "for stock in test_tickers:\n",
    "    train_df = df.loc[stock, :]\n",
    "    train_df.set_index('date', inplace=True)\n",
    "    train_df.drop('open', axis=1, inplace=True)\n",
    "    train_dataset = train_df.values\n",
    "    scaler = MinMaxScaler(feature_range=(0, 1))\n",
    "    scaled_data = scaler.fit_transform(train_dataset)\n",
    "    X_train_sixty, y_train_sixty = [], []\n",
    "    for i in range(61,len(train_df)):\n",
    "        X_train_sixty.append(scaled_data[i-61:i-1,0:4])\n",
    "        y_train_sixty.append(scaled_data[i,0])\n",
    "    X_train_sixty, y_train_sixty = np.array(X_train_sixty), np.array(y_train_sixty)\n",
    "    model_sixty_day.fit(X_train_sixty, y_train_sixty, epochs=1, batch_size=1, verbose=2)"
   ]
  },
  {
   "cell_type": "code",
   "execution_count": null,
   "metadata": {},
   "outputs": [],
   "source": [
    "for stock in test_tickers:\n",
    "    train_df = df.loc[stock, :]\n",
    "    train_df.set_index('date', inplace=True)\n",
    "    train_df.drop('open', axis=1, inplace=True)\n",
    "    train_dataset = train_df.values\n",
    "    scaler = MinMaxScaler(feature_range=(0, 1))\n",
    "    scaled_data = scaler.fit_transform(train_dataset)\n",
    "    X_train_thirty, y_train_thirty = [], []\n",
    "    for i in range(31,len(train_df)):\n",
    "        X_train_thirty.append(scaled_data[i-31:i-1,0:4])\n",
    "        y_train_thirty.append(scaled_data[i,0])\n",
    "    X_train_thirty, y_train_thirty = np.array(X_train_thirty), np.array(y_train_thirty)\n",
    "    model_thirty_day.fit(X_train_thirty, y_train_thirty, epochs=1, batch_size=1, verbose=2)"
   ]
  },
  {
   "cell_type": "code",
   "execution_count": 26,
   "metadata": {},
   "outputs": [
    {
     "name": "stderr",
     "output_type": "stream",
     "text": [
      "C:\\Users\\kreit\\Anaconda3\\envs\\PythonData\\lib\\site-packages\\pandas\\core\\frame.py:3697: SettingWithCopyWarning: \n",
      "A value is trying to be set on a copy of a slice from a DataFrame\n",
      "\n",
      "See the caveats in the documentation: http://pandas.pydata.org/pandas-docs/stable/indexing.html#indexing-view-versus-copy\n",
      "  errors=errors)\n"
     ]
    },
    {
     "name": "stdout",
     "output_type": "stream",
     "text": [
      "Epoch 1/1\n",
      " - 24s - loss: 0.0027\n",
      "Epoch 1/1\n",
      " - 20s - loss: 4.6717e-04\n",
      "Epoch 1/1\n",
      " - 10s - loss: 0.0013\n",
      "Epoch 1/1\n",
      " - 20s - loss: 3.1574e-04\n",
      "Epoch 1/1\n",
      " - 20s - loss: 5.9433e-04\n"
     ]
    }
   ],
   "source": [
    "for stock in test_tickers:\n",
    "    train_df = df.loc[stock, :]\n",
    "    train_df.set_index('date', inplace=True)\n",
    "    train_df.drop('open', axis=1, inplace=True)\n",
    "    train_dataset = train_df.values\n",
    "    scaler = MinMaxScaler(feature_range=(0, 1))\n",
    "    scaled_data = scaler.fit_transform(train_dataset)\n",
    "    X_train_ten, y_train_ten = [], []\n",
    "    for i in range(10,len(train_df)):\n",
    "        X_train_ten.append(scaled_data[i-10:i,0:4])\n",
    "        y_train_ten.append(scaled_data[i,0])\n",
    "    X_train_ten, y_train_ten = np.array(X_train_ten), np.array(y_train_ten)\n",
    "    model_ten_day.fit(X_train_ten, y_train_ten, epochs=1, batch_size=1, verbose=2)"
   ]
  },
  {
   "cell_type": "code",
   "execution_count": 23,
   "metadata": {},
   "outputs": [
    {
     "name": "stderr",
     "output_type": "stream",
     "text": [
      "C:\\Users\\kreit\\Anaconda3\\envs\\PythonData\\lib\\site-packages\\pandas\\core\\frame.py:3697: SettingWithCopyWarning: \n",
      "A value is trying to be set on a copy of a slice from a DataFrame\n",
      "\n",
      "See the caveats in the documentation: http://pandas.pydata.org/pandas-docs/stable/indexing.html#indexing-view-versus-copy\n",
      "  errors=errors)\n"
     ]
    }
   ],
   "source": [
    "MSFT_df = df.loc['MSFT', :]\n",
    "MSFT_df.set_index('date', inplace=True)\n",
    "MSFT_df.drop('open', axis=1, inplace=True)\n",
    "dataset = MSFT_df.values\n",
    "scaler = MinMaxScaler(feature_range=(0, 1))\n",
    "scaled_data = scaler.fit_transform(dataset)\n",
    "X_test, y_test = [], []\n",
    "for i in range(10,len(MSFT_df)):\n",
    "    X_test.append(scaled_data[i-10:i,0:4])\n",
    "    y_test.append(scaled_data[i,0])\n",
    "X_test, y_test = np.array(X_test), np.array(y_test)"
   ]
  },
  {
   "cell_type": "code",
   "execution_count": 24,
   "metadata": {},
   "outputs": [
    {
     "data": {
      "text/plain": [
       "array([0.19921202, 0.18665354, 0.17237134, ..., 0.98448665, 0.98227045,\n",
       "       0.96355577])"
      ]
     },
     "execution_count": 24,
     "metadata": {},
     "output_type": "execute_result"
    }
   ],
   "source": [
    "y_test"
   ]
  },
  {
   "cell_type": "code",
   "execution_count": 27,
   "metadata": {},
   "outputs": [],
   "source": [
    "y_predict = model_ten_day.predict(X_test)"
   ]
  },
  {
   "cell_type": "code",
   "execution_count": 29,
   "metadata": {},
   "outputs": [
    {
     "data": {
      "text/plain": [
       "array([0.1902611 , 0.19174686, 0.18442181, ..., 1.0018457 , 0.97948146,\n",
       "       0.98510575], dtype=float32)"
      ]
     },
     "execution_count": 29,
     "metadata": {},
     "output_type": "execute_result"
    }
   ],
   "source": [
    "y_predict.flatten()"
   ]
  },
  {
   "cell_type": "code",
   "execution_count": 31,
   "metadata": {},
   "outputs": [],
   "source": [
    "from sklearn.metrics import mean_squared_error\n",
    "error = mean_squared_error(y_test, y_predict)"
   ]
  },
  {
   "cell_type": "code",
   "execution_count": 32,
   "metadata": {},
   "outputs": [
    {
     "data": {
      "text/plain": [
       "0.00021859023362960587"
      ]
     },
     "execution_count": 32,
     "metadata": {},
     "output_type": "execute_result"
    }
   ],
   "source": [
    "error"
   ]
  },
  {
   "cell_type": "code",
   "execution_count": 33,
   "metadata": {},
   "outputs": [
    {
     "data": {
      "text/plain": [
       "1752"
      ]
     },
     "execution_count": 33,
     "metadata": {},
     "output_type": "execute_result"
    }
   ],
   "source": [
    "len(y_predict)"
   ]
  },
  {
   "cell_type": "code",
   "execution_count": 34,
   "metadata": {},
   "outputs": [
    {
     "data": {
      "text/plain": [
       "1752"
      ]
     },
     "execution_count": 34,
     "metadata": {},
     "output_type": "execute_result"
    }
   ],
   "source": [
    "valid = MSFT_df[10:]\n",
    "len(valid)"
   ]
  },
  {
   "cell_type": "code",
   "execution_count": 37,
   "metadata": {},
   "outputs": [
    {
     "name": "stderr",
     "output_type": "stream",
     "text": [
      "C:\\Users\\kreit\\Anaconda3\\envs\\PythonData\\lib\\site-packages\\ipykernel_launcher.py:1: SettingWithCopyWarning: \n",
      "A value is trying to be set on a copy of a slice from a DataFrame.\n",
      "Try using .loc[row_indexer,col_indexer] = value instead\n",
      "\n",
      "See the caveats in the documentation: http://pandas.pydata.org/pandas-docs/stable/indexing.html#indexing-view-versus-copy\n",
      "  \"\"\"Entry point for launching an IPython kernel.\n"
     ]
    },
    {
     "data": {
      "text/html": [
       "<div>\n",
       "<style scoped>\n",
       "    .dataframe tbody tr th:only-of-type {\n",
       "        vertical-align: middle;\n",
       "    }\n",
       "\n",
       "    .dataframe tbody tr th {\n",
       "        vertical-align: top;\n",
       "    }\n",
       "\n",
       "    .dataframe thead th {\n",
       "        text-align: right;\n",
       "    }\n",
       "</style>\n",
       "<table border=\"1\" class=\"dataframe\">\n",
       "  <thead>\n",
       "    <tr style=\"text-align: right;\">\n",
       "      <th></th>\n",
       "      <th>close</th>\n",
       "      <th>low</th>\n",
       "      <th>high</th>\n",
       "      <th>volume</th>\n",
       "      <th>predict</th>\n",
       "    </tr>\n",
       "    <tr>\n",
       "      <th>date</th>\n",
       "      <th></th>\n",
       "      <th></th>\n",
       "      <th></th>\n",
       "      <th></th>\n",
       "      <th></th>\n",
       "    </tr>\n",
       "  </thead>\n",
       "  <tbody>\n",
       "    <tr>\n",
       "      <th>2010-01-19</th>\n",
       "      <td>31.100000</td>\n",
       "      <td>30.680000</td>\n",
       "      <td>31.240000</td>\n",
       "      <td>46575700.0</td>\n",
       "      <td>0.190261</td>\n",
       "    </tr>\n",
       "    <tr>\n",
       "      <th>2010-01-20</th>\n",
       "      <td>30.590000</td>\n",
       "      <td>30.309999</td>\n",
       "      <td>30.940001</td>\n",
       "      <td>54849500.0</td>\n",
       "      <td>0.191747</td>\n",
       "    </tr>\n",
       "    <tr>\n",
       "      <th>2010-01-21</th>\n",
       "      <td>30.010000</td>\n",
       "      <td>30.000000</td>\n",
       "      <td>30.719999</td>\n",
       "      <td>73086700.0</td>\n",
       "      <td>0.184422</td>\n",
       "    </tr>\n",
       "    <tr>\n",
       "      <th>2010-01-22</th>\n",
       "      <td>28.959999</td>\n",
       "      <td>28.840000</td>\n",
       "      <td>30.200001</td>\n",
       "      <td>102004600.0</td>\n",
       "      <td>0.175558</td>\n",
       "    </tr>\n",
       "    <tr>\n",
       "      <th>2010-01-25</th>\n",
       "      <td>29.320000</td>\n",
       "      <td>29.100000</td>\n",
       "      <td>29.660000</td>\n",
       "      <td>63373000.0</td>\n",
       "      <td>0.156550</td>\n",
       "    </tr>\n",
       "    <tr>\n",
       "      <th>2010-01-26</th>\n",
       "      <td>29.500000</td>\n",
       "      <td>29.090000</td>\n",
       "      <td>29.850000</td>\n",
       "      <td>66639900.0</td>\n",
       "      <td>0.152451</td>\n",
       "    </tr>\n",
       "    <tr>\n",
       "      <th>2010-01-27</th>\n",
       "      <td>29.670000</td>\n",
       "      <td>29.020000</td>\n",
       "      <td>29.820000</td>\n",
       "      <td>63949500.0</td>\n",
       "      <td>0.154808</td>\n",
       "    </tr>\n",
       "    <tr>\n",
       "      <th>2010-01-28</th>\n",
       "      <td>29.160000</td>\n",
       "      <td>28.889999</td>\n",
       "      <td>29.870001</td>\n",
       "      <td>117513700.0</td>\n",
       "      <td>0.156501</td>\n",
       "    </tr>\n",
       "    <tr>\n",
       "      <th>2010-01-29</th>\n",
       "      <td>28.180000</td>\n",
       "      <td>27.660000</td>\n",
       "      <td>29.920000</td>\n",
       "      <td>193888500.0</td>\n",
       "      <td>0.153515</td>\n",
       "    </tr>\n",
       "    <tr>\n",
       "      <th>2010-02-01</th>\n",
       "      <td>28.410000</td>\n",
       "      <td>27.920000</td>\n",
       "      <td>28.480000</td>\n",
       "      <td>85931100.0</td>\n",
       "      <td>0.139231</td>\n",
       "    </tr>\n",
       "    <tr>\n",
       "      <th>2010-02-02</th>\n",
       "      <td>28.459999</td>\n",
       "      <td>28.139999</td>\n",
       "      <td>28.500000</td>\n",
       "      <td>54413700.0</td>\n",
       "      <td>0.127043</td>\n",
       "    </tr>\n",
       "    <tr>\n",
       "      <th>2010-02-03</th>\n",
       "      <td>28.629999</td>\n",
       "      <td>28.120001</td>\n",
       "      <td>28.790001</td>\n",
       "      <td>61397900.0</td>\n",
       "      <td>0.125654</td>\n",
       "    </tr>\n",
       "    <tr>\n",
       "      <th>2010-02-04</th>\n",
       "      <td>27.840000</td>\n",
       "      <td>27.809999</td>\n",
       "      <td>28.500000</td>\n",
       "      <td>77850000.0</td>\n",
       "      <td>0.129511</td>\n",
       "    </tr>\n",
       "    <tr>\n",
       "      <th>2010-02-05</th>\n",
       "      <td>28.020000</td>\n",
       "      <td>27.570000</td>\n",
       "      <td>28.280001</td>\n",
       "      <td>80960100.0</td>\n",
       "      <td>0.122048</td>\n",
       "    </tr>\n",
       "    <tr>\n",
       "      <th>2010-02-08</th>\n",
       "      <td>27.719999</td>\n",
       "      <td>27.570000</td>\n",
       "      <td>28.080000</td>\n",
       "      <td>52820600.0</td>\n",
       "      <td>0.119182</td>\n",
       "    </tr>\n",
       "    <tr>\n",
       "      <th>2010-02-09</th>\n",
       "      <td>28.010000</td>\n",
       "      <td>27.750000</td>\n",
       "      <td>28.340000</td>\n",
       "      <td>59195800.0</td>\n",
       "      <td>0.114233</td>\n",
       "    </tr>\n",
       "    <tr>\n",
       "      <th>2010-02-10</th>\n",
       "      <td>27.990000</td>\n",
       "      <td>27.840000</td>\n",
       "      <td>28.240000</td>\n",
       "      <td>48591300.0</td>\n",
       "      <td>0.118126</td>\n",
       "    </tr>\n",
       "    <tr>\n",
       "      <th>2010-02-11</th>\n",
       "      <td>28.120001</td>\n",
       "      <td>27.700001</td>\n",
       "      <td>28.400000</td>\n",
       "      <td>65993700.0</td>\n",
       "      <td>0.118916</td>\n",
       "    </tr>\n",
       "    <tr>\n",
       "      <th>2010-02-12</th>\n",
       "      <td>27.930000</td>\n",
       "      <td>27.580000</td>\n",
       "      <td>28.059999</td>\n",
       "      <td>81117200.0</td>\n",
       "      <td>0.120909</td>\n",
       "    </tr>\n",
       "    <tr>\n",
       "      <th>2010-02-16</th>\n",
       "      <td>28.350000</td>\n",
       "      <td>28.020000</td>\n",
       "      <td>28.370001</td>\n",
       "      <td>51935600.0</td>\n",
       "      <td>0.117591</td>\n",
       "    </tr>\n",
       "  </tbody>\n",
       "</table>\n",
       "</div>"
      ],
      "text/plain": [
       "                close        low       high       volume   predict\n",
       "date                                                              \n",
       "2010-01-19  31.100000  30.680000  31.240000   46575700.0  0.190261\n",
       "2010-01-20  30.590000  30.309999  30.940001   54849500.0  0.191747\n",
       "2010-01-21  30.010000  30.000000  30.719999   73086700.0  0.184422\n",
       "2010-01-22  28.959999  28.840000  30.200001  102004600.0  0.175558\n",
       "2010-01-25  29.320000  29.100000  29.660000   63373000.0  0.156550\n",
       "2010-01-26  29.500000  29.090000  29.850000   66639900.0  0.152451\n",
       "2010-01-27  29.670000  29.020000  29.820000   63949500.0  0.154808\n",
       "2010-01-28  29.160000  28.889999  29.870001  117513700.0  0.156501\n",
       "2010-01-29  28.180000  27.660000  29.920000  193888500.0  0.153515\n",
       "2010-02-01  28.410000  27.920000  28.480000   85931100.0  0.139231\n",
       "2010-02-02  28.459999  28.139999  28.500000   54413700.0  0.127043\n",
       "2010-02-03  28.629999  28.120001  28.790001   61397900.0  0.125654\n",
       "2010-02-04  27.840000  27.809999  28.500000   77850000.0  0.129511\n",
       "2010-02-05  28.020000  27.570000  28.280001   80960100.0  0.122048\n",
       "2010-02-08  27.719999  27.570000  28.080000   52820600.0  0.119182\n",
       "2010-02-09  28.010000  27.750000  28.340000   59195800.0  0.114233\n",
       "2010-02-10  27.990000  27.840000  28.240000   48591300.0  0.118126\n",
       "2010-02-11  28.120001  27.700001  28.400000   65993700.0  0.118916\n",
       "2010-02-12  27.930000  27.580000  28.059999   81117200.0  0.120909\n",
       "2010-02-16  28.350000  28.020000  28.370001   51935600.0  0.117591"
      ]
     },
     "execution_count": 37,
     "metadata": {},
     "output_type": "execute_result"
    }
   ],
   "source": []
  },
  {
   "cell_type": "code",
   "execution_count": null,
   "metadata": {},
   "outputs": [],
   "source": [
    "valid['predictions'] = close\n",
    "plt.figure(figsize=(16,8))\n",
    "\n",
    "valid = valid[1600:]\n",
    "#plt.plot(train['close'])\n",
    "plt.plot(valid[['close','predictions']])"
   ]
  },
  {
   "cell_type": "code",
   "execution_count": null,
   "metadata": {},
   "outputs": [],
   "source": [
    "valid['error'] = valid['close'] - valid['predictions']"
   ]
  },
  {
   "cell_type": "code",
   "execution_count": null,
   "metadata": {},
   "outputs": [],
   "source": [
    "valid['error'].mean()"
   ]
  },
  {
   "cell_type": "code",
   "execution_count": null,
   "metadata": {},
   "outputs": [],
   "source": [
    "model_sixty_day.save('model_sixty_day.h5')"
   ]
  },
  {
   "cell_type": "code",
   "execution_count": null,
   "metadata": {},
   "outputs": [],
   "source": [
    "model_thirty_day.save('model_thirty_day.h5')"
   ]
  },
  {
   "cell_type": "code",
   "execution_count": null,
   "metadata": {},
   "outputs": [],
   "source": [
    "model_ten_day.save('model_ten_day.h5')"
   ]
  },
  {
   "cell_type": "markdown",
   "metadata": {},
   "source": []
  }
 ],
 "metadata": {
  "kernelspec": {
   "display_name": "Python 3",
   "language": "python",
   "name": "python3"
  },
  "language_info": {
   "codemirror_mode": {
    "name": "ipython",
    "version": 3
   },
   "file_extension": ".py",
   "mimetype": "text/x-python",
   "name": "python",
   "nbconvert_exporter": "python",
   "pygments_lexer": "ipython3",
   "version": "3.6.6"
  }
 },
 "nbformat": 4,
 "nbformat_minor": 2
}
