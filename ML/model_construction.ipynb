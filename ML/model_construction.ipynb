{
 "cells": [
  {
   "cell_type": "code",
   "execution_count": 1,
   "metadata": {},
   "outputs": [
    {
     "name": "stderr",
     "output_type": "stream",
     "text": [
      "Using TensorFlow backend.\n"
     ]
    }
   ],
   "source": [
    "# Dependencies\n",
    "%matplotlib inline\n",
    "import matplotlib.pyplot as plt\n",
    "import numpy as np\n",
    "import pandas as pd\n",
    "import random\n",
    "from sklearn.preprocessing import MinMaxScaler\n",
    "from keras.models import Sequential\n",
    "from keras.layers import Dense, Dropout, LSTM"
   ]
  },
  {
   "cell_type": "code",
   "execution_count": 193,
   "metadata": {},
   "outputs": [],
   "source": [
    "# Read in the dataset from the csv file\n",
    "df = pd.read_csv(\"Resources/prices.csv\")"
   ]
  },
  {
   "cell_type": "code",
   "execution_count": 194,
   "metadata": {},
   "outputs": [
    {
     "data": {
      "text/plain": [
       "Index(['SYMC', 'IFF', 'ILMN', 'INTC', 'INTU', 'IP', 'IPG', 'IR', 'IRM', 'IDXX',\n",
       "       ...\n",
       "       'NAVI', 'QRVO', 'CFG', 'WRK', 'KHC', 'PYPL', 'HPE', 'CSRA', 'WLTW',\n",
       "       'FTV'],\n",
       "      dtype='object', name='symbol', length=501)"
      ]
     },
     "execution_count": 194,
     "metadata": {},
     "output_type": "execute_result"
    }
   ],
   "source": [
    "# Set the date to the index of the dataframe\n",
    "df['date'] = pd.to_datetime(df.date,format='%Y-%m-%d')\n",
    "df.set_index('symbol', inplace=True)\n",
    "df = df.sort_values('date')\n",
    "\n",
    "# Build in arrary of the Stock tickers\n",
    "tickers = df.index.unique()\n",
    "tickers"
   ]
  },
  {
   "cell_type": "code",
   "execution_count": 195,
   "metadata": {},
   "outputs": [],
   "source": [
    "# Select a random set of 50 numbers\n",
    "sample_num = random.sample(range(0, 501), 50)"
   ]
  },
  {
   "cell_type": "code",
   "execution_count": 196,
   "metadata": {},
   "outputs": [],
   "source": [
    "# Build train samples of stocks using the random numbers to select tickers\n",
    "train_tickers = []\n",
    "for num in sample_num:\n",
    "    train_tickers.append(tickers[num])"
   ]
  },
  {
   "cell_type": "code",
   "execution_count": 197,
   "metadata": {},
   "outputs": [],
   "source": [
    "# Build and Compile Sixty Day Time Step Model\n",
    "model_sixty_day = Sequential()\n",
    "model_sixty_day.add(LSTM(units=50, return_sequences=True, input_shape=(60,5)))\n",
    "model_sixty_day.add(LSTM(units=50))\n",
    "model_sixty_day.add(Dense(1))\n",
    "model_sixty_day.compile(loss='mean_squared_error', optimizer='adam')"
   ]
  },
  {
   "cell_type": "code",
   "execution_count": 198,
   "metadata": {},
   "outputs": [],
   "source": [
    "# Build and Compile the Thirty Day Time Step Model\n",
    "model_thirty_day = Sequential()\n",
    "model_thirty_day.add(LSTM(units=50, return_sequences=True, input_shape=(30,5)))\n",
    "model_thirty_day.add(LSTM(units=50))\n",
    "model_thirty_day.add(Dense(1))\n",
    "model_thirty_day.compile(loss='mean_squared_error', optimizer='adam')"
   ]
  },
  {
   "cell_type": "code",
   "execution_count": 199,
   "metadata": {},
   "outputs": [],
   "source": [
    "# Build and Compile the Ten Day Time Step Model\n",
    "model_ten_day = Sequential()\n",
    "model_ten_day.add(LSTM(units=50, return_sequences=True, input_shape=(10,5)))\n",
    "model_ten_day.add(LSTM(units=50))\n",
    "model_ten_day.add(Dense(1))\n",
    "model_ten_day.compile(loss='mean_squared_error', optimizer='adam')"
   ]
  },
  {
   "cell_type": "code",
   "execution_count": 200,
   "metadata": {},
   "outputs": [
    {
     "name": "stdout",
     "output_type": "stream",
     "text": [
      "Epoch 1/1\n",
      " - 74s - loss: 0.0020\n",
      "Epoch 1/1\n",
      " - 72s - loss: 8.7484e-04\n",
      "Epoch 1/1\n",
      " - 63s - loss: 4.9608e-04\n",
      "Epoch 1/1\n",
      " - 63s - loss: 4.2352e-04\n",
      "Epoch 1/1\n",
      " - 63s - loss: 4.2805e-04\n",
      "Epoch 1/1\n",
      " - 64s - loss: 4.1688e-04\n",
      "Epoch 1/1\n",
      " - 66s - loss: 3.5120e-04\n",
      "Epoch 1/1\n",
      " - 63s - loss: 3.9004e-04\n",
      "Epoch 1/1\n",
      " - 63s - loss: 3.4725e-04\n",
      "Epoch 1/1\n",
      " - 63s - loss: 3.3549e-04\n",
      "Epoch 1/1\n",
      " - 62s - loss: 3.3613e-04\n",
      "Epoch 1/1\n",
      " - 72s - loss: 3.2969e-04\n",
      "Epoch 1/1\n",
      " - 68s - loss: 3.4123e-04\n",
      "Epoch 1/1\n",
      " - 62s - loss: 3.0585e-04\n",
      "Epoch 1/1\n",
      " - 62s - loss: 3.1500e-04\n",
      "Epoch 1/1\n",
      " - 64s - loss: 3.1505e-04\n",
      "Epoch 1/1\n",
      " - 63s - loss: 2.9837e-04\n",
      "Epoch 1/1\n",
      " - 63s - loss: 2.9142e-04\n",
      "Epoch 1/1\n",
      " - 63s - loss: 2.8189e-04\n",
      "Epoch 1/1\n",
      " - 65s - loss: 2.9631e-04\n",
      "Epoch 1/1\n",
      " - 67s - loss: 2.8688e-04\n",
      "Epoch 1/1\n",
      " - 64s - loss: 2.8034e-04\n",
      "Epoch 1/1\n",
      " - 64s - loss: 2.8808e-04\n",
      "Epoch 1/1\n",
      " - 64s - loss: 2.9071e-04\n",
      "Epoch 1/1\n",
      " - 67s - loss: 2.9157e-04\n",
      "Epoch 1/1\n",
      " - 66s - loss: 2.7941e-04\n",
      "Epoch 1/1\n",
      " - 64s - loss: 2.7257e-04\n",
      "Epoch 1/1\n",
      " - 64s - loss: 2.8422e-04\n",
      "Epoch 1/1\n",
      " - 64s - loss: 2.7200e-04\n",
      "Epoch 1/1\n",
      " - 65s - loss: 2.6726e-04\n",
      "Epoch 1/1\n",
      " - 64s - loss: 2.6752e-04\n",
      "Epoch 1/1\n",
      " - 63s - loss: 2.6886e-04\n",
      "Epoch 1/1\n",
      " - 63s - loss: 2.7807e-04\n",
      "Epoch 1/1\n",
      " - 63s - loss: 2.6950e-04\n",
      "Epoch 1/1\n",
      " - 63s - loss: 2.5978e-04\n",
      "Epoch 1/1\n",
      " - 63s - loss: 2.7822e-04\n",
      "Epoch 1/1\n",
      " - 63s - loss: 2.6969e-04\n",
      "Epoch 1/1\n",
      " - 63s - loss: 2.6828e-04\n",
      "Epoch 1/1\n",
      " - 63s - loss: 2.6649e-04\n",
      "Epoch 1/1\n",
      " - 66s - loss: 2.6477e-04\n",
      "Epoch 1/1\n",
      " - 65s - loss: 2.7476e-04\n",
      "Epoch 1/1\n",
      " - 66s - loss: 2.6278e-04\n",
      "Epoch 1/1\n",
      " - 64s - loss: 2.5710e-04\n",
      "Epoch 1/1\n",
      " - 63s - loss: 2.6162e-04\n",
      "Epoch 1/1\n",
      " - 64s - loss: 2.5610e-04\n",
      "Epoch 1/1\n",
      " - 63s - loss: 2.6263e-04\n",
      "Epoch 1/1\n",
      " - 64s - loss: 2.6445e-04\n",
      "Epoch 1/1\n",
      " - 63s - loss: 2.5607e-04\n",
      "Epoch 1/1\n",
      " - 64s - loss: 2.4719e-04\n",
      "Epoch 1/1\n",
      " - 64s - loss: 2.5664e-04\n"
     ]
    }
   ],
   "source": [
    "for stock in train_tickers:\n",
    "    train_df = df.loc[stock, :]\n",
    "    train_df.set_index('date', inplace=True)\n",
    "    x_df = MSFT_df\n",
    "    y_df = MSFT_df[['close']]\n",
    "    x_scaler = MinMaxScaler(feature_range=(0, 1))\n",
    "    y_scaler = MinMaxScaler(feature_range=(0, 1))\n",
    "    x_train_dataset = x_df.values\n",
    "    y_train_dataset = y_df.values\n",
    "    x_scaled_data = x_scaler.fit_transform(x_train_dataset)\n",
    "    y_scaled_data = y_scaler.fit_transform(y_train_dataset)\n",
    "    x_train, y_train = [], []\n",
    "    for i in range(60, len(MSFT_df)):\n",
    "        x_train.append(x_scaled_data[i-60:i, :])\n",
    "        y_train.append(y_scaled_data[i, :])\n",
    "    x_train, y_train = np.array(x_train), np.array(y_train)\n",
    "    model_sixty_day.fit(x_train, y_train, epochs=1, batch_size=1, verbose=2)"
   ]
  },
  {
   "cell_type": "code",
   "execution_count": 201,
   "metadata": {},
   "outputs": [
    {
     "name": "stdout",
     "output_type": "stream",
     "text": [
      "Epoch 1/1\n",
      " - 34s - loss: 0.0020\n",
      "Epoch 1/1\n",
      " - 31s - loss: 7.2707e-04\n",
      "Epoch 1/1\n",
      " - 32s - loss: 5.7895e-04\n",
      "Epoch 1/1\n",
      " - 32s - loss: 4.4393e-04\n",
      "Epoch 1/1\n",
      " - 32s - loss: 4.1448e-04\n",
      "Epoch 1/1\n",
      " - 32s - loss: 4.2165e-04\n",
      "Epoch 1/1\n",
      " - 32s - loss: 3.7907e-04\n",
      "Epoch 1/1\n",
      " - 32s - loss: 3.9378e-04\n",
      "Epoch 1/1\n",
      " - 32s - loss: 3.4883e-04\n",
      "Epoch 1/1\n",
      " - 32s - loss: 3.1108e-04\n",
      "Epoch 1/1\n",
      " - 32s - loss: 3.3160e-04\n",
      "Epoch 1/1\n",
      " - 32s - loss: 3.1798e-04\n",
      "Epoch 1/1\n",
      " - 32s - loss: 3.3297e-04\n",
      "Epoch 1/1\n",
      " - 32s - loss: 3.1104e-04\n",
      "Epoch 1/1\n",
      " - 32s - loss: 2.9971e-04\n",
      "Epoch 1/1\n",
      " - 32s - loss: 3.0625e-04\n",
      "Epoch 1/1\n",
      " - 32s - loss: 3.1244e-04\n",
      "Epoch 1/1\n",
      " - 32s - loss: 3.0128e-04\n",
      "Epoch 1/1\n",
      " - 32s - loss: 2.7452e-04\n",
      "Epoch 1/1\n",
      " - 34s - loss: 2.8060e-04\n",
      "Epoch 1/1\n",
      " - 32s - loss: 2.7907e-04\n",
      "Epoch 1/1\n",
      " - 32s - loss: 2.8337e-04\n",
      "Epoch 1/1\n",
      " - 32s - loss: 2.8389e-04\n",
      "Epoch 1/1\n",
      " - 32s - loss: 2.9974e-04\n",
      "Epoch 1/1\n",
      " - 32s - loss: 2.7807e-04\n",
      "Epoch 1/1\n",
      " - 32s - loss: 2.8061e-04\n",
      "Epoch 1/1\n",
      " - 32s - loss: 2.7873e-04\n",
      "Epoch 1/1\n",
      " - 32s - loss: 2.7154e-04\n",
      "Epoch 1/1\n",
      " - 32s - loss: 2.8091e-04\n",
      "Epoch 1/1\n",
      " - 32s - loss: 2.6803e-04\n",
      "Epoch 1/1\n",
      " - 32s - loss: 2.5975e-04\n",
      "Epoch 1/1\n",
      " - 32s - loss: 2.5504e-04\n",
      "Epoch 1/1\n",
      " - 32s - loss: 2.6738e-04\n",
      "Epoch 1/1\n",
      " - 32s - loss: 2.6339e-04\n",
      "Epoch 1/1\n",
      " - 34s - loss: 2.8033e-04\n",
      "Epoch 1/1\n",
      " - 32s - loss: 2.6087e-04\n",
      "Epoch 1/1\n",
      " - 32s - loss: 2.7951e-04\n",
      "Epoch 1/1\n",
      " - 32s - loss: 2.7093e-04\n",
      "Epoch 1/1\n",
      " - 32s - loss: 2.5511e-04\n",
      "Epoch 1/1\n",
      " - 32s - loss: 2.6040e-04\n",
      "Epoch 1/1\n",
      " - 32s - loss: 2.7448e-04\n",
      "Epoch 1/1\n",
      " - 32s - loss: 2.5746e-04\n",
      "Epoch 1/1\n",
      " - 32s - loss: 2.7297e-04\n",
      "Epoch 1/1\n",
      " - 32s - loss: 2.6535e-04\n",
      "Epoch 1/1\n",
      " - 33s - loss: 2.5589e-04\n",
      "Epoch 1/1\n",
      " - 32s - loss: 2.5741e-04\n",
      "Epoch 1/1\n",
      " - 32s - loss: 2.5974e-04\n",
      "Epoch 1/1\n",
      " - 33s - loss: 2.4664e-04\n",
      "Epoch 1/1\n",
      " - 32s - loss: 2.6912e-04\n",
      "Epoch 1/1\n",
      " - 32s - loss: 2.4610e-04\n"
     ]
    }
   ],
   "source": [
    "for stock in train_tickers:\n",
    "    train_df = df.loc[stock, :]\n",
    "    train_df.set_index('date', inplace=True)\n",
    "    x_df = MSFT_df\n",
    "    y_df = MSFT_df[['close']]\n",
    "    x_scaler = MinMaxScaler(feature_range=(0, 1))\n",
    "    y_scaler = MinMaxScaler(feature_range=(0, 1))\n",
    "    x_train_dataset = x_df.values\n",
    "    y_train_dataset = y_df.values\n",
    "    x_scaled_data = x_scaler.fit_transform(x_train_dataset)\n",
    "    y_scaled_data = y_scaler.fit_transform(y_train_dataset)\n",
    "    x_train, y_train = [], []\n",
    "    for i in range(30, len(MSFT_df)):\n",
    "        x_train.append(x_scaled_data[i-30:i, :])\n",
    "        y_train.append(y_scaled_data[i, :])\n",
    "    x_train, y_train = np.array(x_train), np.array(y_train)\n",
    "    model_thirty_day.fit(x_train, y_train, epochs=1, batch_size=1, verbose=2)"
   ]
  },
  {
   "cell_type": "code",
   "execution_count": 202,
   "metadata": {},
   "outputs": [
    {
     "name": "stdout",
     "output_type": "stream",
     "text": [
      "Epoch 1/1\n",
      " - 15s - loss: 0.0027\n",
      "Epoch 1/1\n",
      " - 13s - loss: 8.6610e-04\n",
      "Epoch 1/1\n",
      " - 13s - loss: 6.7875e-04\n",
      "Epoch 1/1\n",
      " - 13s - loss: 5.3178e-04\n",
      "Epoch 1/1\n",
      " - 13s - loss: 4.2386e-04\n",
      "Epoch 1/1\n",
      " - 13s - loss: 3.5075e-04\n",
      "Epoch 1/1\n",
      " - 13s - loss: 4.0745e-04\n",
      "Epoch 1/1\n",
      " - 13s - loss: 3.4685e-04\n",
      "Epoch 1/1\n",
      " - 14s - loss: 3.6359e-04\n",
      "Epoch 1/1\n",
      " - 13s - loss: 3.2608e-04\n",
      "Epoch 1/1\n",
      " - 13s - loss: 3.3119e-04\n",
      "Epoch 1/1\n",
      " - 13s - loss: 3.6051e-04\n",
      "Epoch 1/1\n",
      " - 13s - loss: 2.8924e-04\n",
      "Epoch 1/1\n",
      " - 13s - loss: 3.2466e-04\n",
      "Epoch 1/1\n",
      " - 13s - loss: 3.0742e-04\n",
      "Epoch 1/1\n",
      " - 13s - loss: 3.2827e-04\n",
      "Epoch 1/1\n",
      " - 13s - loss: 3.1981e-04\n",
      "Epoch 1/1\n",
      " - 13s - loss: 2.9922e-04\n",
      "Epoch 1/1\n",
      " - 13s - loss: 2.7266e-04\n",
      "Epoch 1/1\n",
      " - 13s - loss: 2.8492e-04\n",
      "Epoch 1/1\n",
      " - 13s - loss: 2.8126e-04\n",
      "Epoch 1/1\n",
      " - 13s - loss: 3.0319e-04\n",
      "Epoch 1/1\n",
      " - 13s - loss: 2.8455e-04\n",
      "Epoch 1/1\n",
      " - 13s - loss: 2.8566e-04\n",
      "Epoch 1/1\n",
      " - 13s - loss: 2.6970e-04\n",
      "Epoch 1/1\n",
      " - 13s - loss: 2.6886e-04\n",
      "Epoch 1/1\n",
      " - 13s - loss: 2.7550e-04\n",
      "Epoch 1/1\n",
      " - 13s - loss: 2.8020e-04\n",
      "Epoch 1/1\n",
      " - 13s - loss: 2.7689e-04\n",
      "Epoch 1/1\n",
      " - 13s - loss: 2.9101e-04\n",
      "Epoch 1/1\n",
      " - 13s - loss: 2.6469e-04\n",
      "Epoch 1/1\n",
      " - 13s - loss: 2.6940e-04\n",
      "Epoch 1/1\n",
      " - 13s - loss: 2.7175e-04\n",
      "Epoch 1/1\n",
      " - 13s - loss: 2.6805e-04\n",
      "Epoch 1/1\n",
      " - 13s - loss: 2.6817e-04\n",
      "Epoch 1/1\n",
      " - 13s - loss: 2.8065e-04\n",
      "Epoch 1/1\n",
      " - 13s - loss: 2.6383e-04\n",
      "Epoch 1/1\n",
      " - 13s - loss: 2.6598e-04\n",
      "Epoch 1/1\n",
      " - 13s - loss: 2.5656e-04\n",
      "Epoch 1/1\n",
      " - 13s - loss: 2.6409e-04\n",
      "Epoch 1/1\n",
      " - 13s - loss: 2.5568e-04\n",
      "Epoch 1/1\n",
      " - 13s - loss: 2.5893e-04\n",
      "Epoch 1/1\n",
      " - 13s - loss: 2.5900e-04\n",
      "Epoch 1/1\n",
      " - 13s - loss: 2.4909e-04\n",
      "Epoch 1/1\n",
      " - 13s - loss: 2.5996e-04\n",
      "Epoch 1/1\n",
      " - 13s - loss: 2.6002e-04\n",
      "Epoch 1/1\n",
      " - 13s - loss: 2.6432e-04\n",
      "Epoch 1/1\n",
      " - 13s - loss: 2.7415e-04\n",
      "Epoch 1/1\n",
      " - 13s - loss: 2.5093e-04\n",
      "Epoch 1/1\n",
      " - 13s - loss: 2.5070e-04\n"
     ]
    }
   ],
   "source": [
    "for stock in train_tickers:\n",
    "    train_df = df.loc[stock, :]\n",
    "    train_df.set_index('date', inplace=True)\n",
    "    x_df = MSFT_df\n",
    "    y_df = MSFT_df[['close']]\n",
    "    x_scaler = MinMaxScaler(feature_range=(0, 1))\n",
    "    y_scaler = MinMaxScaler(feature_range=(0, 1))\n",
    "    x_train_dataset = x_df.values\n",
    "    y_train_dataset = y_df.values\n",
    "    x_scaled_data = x_scaler.fit_transform(x_train_dataset)\n",
    "    y_scaled_data = y_scaler.fit_transform(y_train_dataset)\n",
    "    x_train, y_train = [], []\n",
    "    for i in range(10, len(MSFT_df)):\n",
    "        x_train.append(x_scaled_data[i-10:i, :])\n",
    "        y_train.append(y_scaled_data[i, :])\n",
    "    x_train, y_train = np.array(x_train), np.array(y_train)\n",
    "    model_ten_day.fit(x_train, y_train, epochs=1, batch_size=1, verbose=2)"
   ]
  },
  {
   "cell_type": "code",
   "execution_count": 168,
   "metadata": {},
   "outputs": [],
   "source": [
    "MSFT_df = df.loc['MSFT', :]\n",
    "MSFT_df.set_index('date', inplace=True)\n",
    "x_df = MSFT_df\n",
    "y_df = MSFT_df[['close']]\n",
    "x_scaler = MinMaxScaler(feature_range=(0, 1))\n",
    "y_scaler = MinMaxScaler(feature_range=(0, 1))\n",
    "x_train_dataset = x_df.values\n",
    "y_train_dataset = y_df.values\n",
    "x_scaled_data = x_scaler.fit_transform(x_train_dataset)\n",
    "y_scaled_data = y_scaler.fit_transform(y_train_dataset)\n",
    "x_train, y_train = [], []\n",
    "for i in range(30, len(MSFT_df)):\n",
    "    x_train.append(x_scaled_data[i-30:i, :])\n",
    "    y_train.append(y_scaled_data[i, :])\n",
    "x_train, y_train = np.array(x_train), np.array(y_train)"
   ]
  },
  {
   "cell_type": "code",
   "execution_count": 170,
   "metadata": {},
   "outputs": [],
   "source": [
    "y_pred = model_thirty_day.predict(x_train)"
   ]
  },
  {
   "cell_type": "code",
   "execution_count": 171,
   "metadata": {},
   "outputs": [],
   "source": [
    "close_pred = y_scaler.inverse_transform(y_pred)\n",
    "close = y_scaler.inverse_transform(y_train)"
   ]
  },
  {
   "cell_type": "code",
   "execution_count": 173,
   "metadata": {},
   "outputs": [
    {
     "data": {
      "text/plain": [
       "0.8974978591695024"
      ]
     },
     "execution_count": 173,
     "metadata": {},
     "output_type": "execute_result"
    }
   ],
   "source": [
    "from sklearn.metrics import mean_squared_error\n",
    "mse = mean_squared_error(close, close_pred)\n",
    "mse"
   ]
  },
  {
   "cell_type": "code",
   "execution_count": 174,
   "metadata": {},
   "outputs": [
    {
     "data": {
      "text/plain": [
       "0.6799361077553837"
      ]
     },
     "execution_count": 174,
     "metadata": {},
     "output_type": "execute_result"
    }
   ],
   "source": [
    "(close-close_pred).mean()"
   ]
  },
  {
   "cell_type": "code",
   "execution_count": 175,
   "metadata": {},
   "outputs": [
    {
     "name": "stderr",
     "output_type": "stream",
     "text": [
      "C:\\Users\\kreit\\Anaconda3\\envs\\PythonData\\lib\\site-packages\\ipykernel_launcher.py:2: SettingWithCopyWarning: \n",
      "A value is trying to be set on a copy of a slice from a DataFrame.\n",
      "Try using .loc[row_indexer,col_indexer] = value instead\n",
      "\n",
      "See the caveats in the documentation: http://pandas.pydata.org/pandas-docs/stable/indexing.html#indexing-view-versus-copy\n",
      "  \n"
     ]
    }
   ],
   "source": [
    "valid = (MSFT_df[30:])\n",
    "valid['pred'] = close_pred"
   ]
  },
  {
   "cell_type": "code",
   "execution_count": 112,
   "metadata": {},
   "outputs": [
    {
     "data": {
      "text/plain": [
       "array([[0.97202456, 0.97439062, 0.97271384, 0.97670436, 0.06194849],\n",
       "       [0.97815953, 0.96749569, 0.96828906, 0.97179997, 0.10949692],\n",
       "       [0.96858898, 1.        , 0.97566367, 0.99190785, 0.08339629],\n",
       "       [0.99631899, 0.99803009, 0.99065878, 0.99264348, 0.0566688 ],\n",
       "       [0.98993865, 0.99803009, 0.99287117, 0.99019134, 0.02793975],\n",
       "       [1.        , 0.99827629, 1.        , 1.        , 0.04427994],\n",
       "       [0.99042947, 0.99064277, 0.98500489, 0.98626785, 0.01284687],\n",
       "       [0.98453985, 0.99162768, 0.99508355, 0.99926439, 0.01078646],\n",
       "       [0.9892025 , 0.98448665, 0.98574243, 0.98283482, 0.02008213],\n",
       "       [0.97595094, 0.98227045, 0.98328417, 0.97793043, 0.00592136]])"
      ]
     },
     "execution_count": 112,
     "metadata": {},
     "output_type": "execute_result"
    }
   ],
   "source": [
    "x_train[1751]"
   ]
  },
  {
   "cell_type": "code",
   "execution_count": 132,
   "metadata": {},
   "outputs": [
    {
     "data": {
      "text/plain": [
       "(1, 10, 5)"
      ]
     },
     "execution_count": 132,
     "metadata": {},
     "output_type": "execute_result"
    }
   ],
   "source": [
    "current = []\n",
    "for i in range(0, 10):\n",
    "    current.append(x_scaled_data[i-10])\n",
    "x_current = np.array(current)\n",
    "x_current = np.reshape(x_current, (1,) + x_current.shape)\n",
    "x_current.shape"
   ]
  },
  {
   "cell_type": "code",
   "execution_count": 133,
   "metadata": {},
   "outputs": [],
   "source": [
    "current_predict = model_ten_day.predict(x_current)"
   ]
  },
  {
   "cell_type": "code",
   "execution_count": 134,
   "metadata": {},
   "outputs": [
    {
     "data": {
      "text/plain": [
       "array([[0.9528681]], dtype=float32)"
      ]
     },
     "execution_count": 134,
     "metadata": {},
     "output_type": "execute_result"
    }
   ],
   "source": [
    "current_predict"
   ]
  },
  {
   "cell_type": "code",
   "execution_count": 55,
   "metadata": {},
   "outputs": [
    {
     "name": "stdout",
     "output_type": "stream",
     "text": [
      "[0, 1, 2, 3, 4, 5, 6, 7, 8, 9, 10, 11, 12, 13, 14]\n",
      "[5, 6, 7, 8, 9, 10, 11, 12, 13, 14, 15, 16, 17, 18, 19]\n"
     ]
    }
   ],
   "source": [
    "a, b = [], []\n",
    "for i in range(5, 20):\n",
    "    a.append(i-5)\n",
    "    b.append(i)\n",
    "print(a)\n",
    "print(b)"
   ]
  },
  {
   "cell_type": "code",
   "execution_count": null,
   "metadata": {},
   "outputs": [],
   "source": []
  },
  {
   "cell_type": "code",
   "execution_count": 21,
   "metadata": {},
   "outputs": [
    {
     "name": "stderr",
     "output_type": "stream",
     "text": [
      "C:\\Users\\kreit\\Anaconda3\\envs\\PythonData\\lib\\site-packages\\pandas\\core\\frame.py:3697: SettingWithCopyWarning: \n",
      "A value is trying to be set on a copy of a slice from a DataFrame\n",
      "\n",
      "See the caveats in the documentation: http://pandas.pydata.org/pandas-docs/stable/indexing.html#indexing-view-versus-copy\n",
      "  errors=errors)\n"
     ]
    }
   ],
   "source": [
    "MSFT_df = df.loc['MSFT', :]\n",
    "MSFT_df.set_index('date', inplace=True)\n",
    "MSFT_df.drop('open', axis=1, inplace=True)\n",
    "dataset = MSFT_df.values\n",
    "x_scaler = MinMaxScaler(feature_range=(0, 1))\n",
    "y_scaler\n",
    "scaled_data = scaler.fit_transform(dataset)\n",
    "X_test, y_test = [], []\n",
    "for i in range(10,len(MSFT_df)):\n",
    "    X_test.append(scaled_data[i-10:i,0:4])\n",
    "    y_test.append(scaled_data[i,0])\n",
    "X_test, y_test = np.array(X_test), np.array(y_test)"
   ]
  },
  {
   "cell_type": "code",
   "execution_count": 22,
   "metadata": {},
   "outputs": [
    {
     "data": {
      "text/plain": [
       "array([[0.19921202],\n",
       "       [0.18665354],\n",
       "       [0.17237134],\n",
       "       ...,\n",
       "       [0.98448665],\n",
       "       [0.98227045],\n",
       "       [0.96355577]])"
      ]
     },
     "execution_count": 22,
     "metadata": {},
     "output_type": "execute_result"
    }
   ],
   "source": [
    "y_test = y_test.reshape(-1, 1)\n",
    "y_test"
   ]
  },
  {
   "cell_type": "code",
   "execution_count": 11,
   "metadata": {},
   "outputs": [
    {
     "data": {
      "text/plain": [
       "(1752, 10, 4)"
      ]
     },
     "execution_count": 11,
     "metadata": {},
     "output_type": "execute_result"
    }
   ],
   "source": [
    "X_test.shape"
   ]
  },
  {
   "cell_type": "code",
   "execution_count": 23,
   "metadata": {},
   "outputs": [
    {
     "ename": "ValueError",
     "evalue": "non-broadcastable output operand with shape (1752,1) doesn't match the broadcast shape (1752,4)",
     "output_type": "error",
     "traceback": [
      "\u001b[1;31m---------------------------------------------------------------------------\u001b[0m",
      "\u001b[1;31mValueError\u001b[0m                                Traceback (most recent call last)",
      "\u001b[1;32m<ipython-input-23-153533ca5dda>\u001b[0m in \u001b[0;36m<module>\u001b[1;34m()\u001b[0m\n\u001b[1;32m----> 1\u001b[1;33m \u001b[0my_predict\u001b[0m \u001b[1;33m=\u001b[0m \u001b[0mscaler\u001b[0m\u001b[1;33m.\u001b[0m\u001b[0minverse_transform\u001b[0m\u001b[1;33m(\u001b[0m\u001b[0my_test\u001b[0m\u001b[1;33m)\u001b[0m\u001b[1;33m\u001b[0m\u001b[0m\n\u001b[0m",
      "\u001b[1;32m~\\Anaconda3\\envs\\PythonData\\lib\\site-packages\\sklearn\\preprocessing\\data.py\u001b[0m in \u001b[0;36minverse_transform\u001b[1;34m(self, X)\u001b[0m\n\u001b[0;32m    383\u001b[0m         \u001b[0mX\u001b[0m \u001b[1;33m=\u001b[0m \u001b[0mcheck_array\u001b[0m\u001b[1;33m(\u001b[0m\u001b[0mX\u001b[0m\u001b[1;33m,\u001b[0m \u001b[0mcopy\u001b[0m\u001b[1;33m=\u001b[0m\u001b[0mself\u001b[0m\u001b[1;33m.\u001b[0m\u001b[0mcopy\u001b[0m\u001b[1;33m,\u001b[0m \u001b[0mdtype\u001b[0m\u001b[1;33m=\u001b[0m\u001b[0mFLOAT_DTYPES\u001b[0m\u001b[1;33m)\u001b[0m\u001b[1;33m\u001b[0m\u001b[0m\n\u001b[0;32m    384\u001b[0m \u001b[1;33m\u001b[0m\u001b[0m\n\u001b[1;32m--> 385\u001b[1;33m         \u001b[0mX\u001b[0m \u001b[1;33m-=\u001b[0m \u001b[0mself\u001b[0m\u001b[1;33m.\u001b[0m\u001b[0mmin_\u001b[0m\u001b[1;33m\u001b[0m\u001b[0m\n\u001b[0m\u001b[0;32m    386\u001b[0m         \u001b[0mX\u001b[0m \u001b[1;33m/=\u001b[0m \u001b[0mself\u001b[0m\u001b[1;33m.\u001b[0m\u001b[0mscale_\u001b[0m\u001b[1;33m\u001b[0m\u001b[0m\n\u001b[0;32m    387\u001b[0m         \u001b[1;32mreturn\u001b[0m \u001b[0mX\u001b[0m\u001b[1;33m\u001b[0m\u001b[0m\n",
      "\u001b[1;31mValueError\u001b[0m: non-broadcastable output operand with shape (1752,1) doesn't match the broadcast shape (1752,4)"
     ]
    }
   ],
   "source": [
    "y_predict = scaler.inverse_transform(y_test)"
   ]
  },
  {
   "cell_type": "code",
   "execution_count": 31,
   "metadata": {},
   "outputs": [],
   "source": [
    "from sklearn.metrics import mean_squared_error\n",
    "error = mean_squared_error(y_test, y_predict)"
   ]
  },
  {
   "cell_type": "code",
   "execution_count": 32,
   "metadata": {},
   "outputs": [
    {
     "data": {
      "text/plain": [
       "0.00021859023362960587"
      ]
     },
     "execution_count": 32,
     "metadata": {},
     "output_type": "execute_result"
    }
   ],
   "source": [
    "error"
   ]
  },
  {
   "cell_type": "code",
   "execution_count": 33,
   "metadata": {},
   "outputs": [
    {
     "data": {
      "text/plain": [
       "1752"
      ]
     },
     "execution_count": 33,
     "metadata": {},
     "output_type": "execute_result"
    }
   ],
   "source": [
    "len(y_predict)"
   ]
  },
  {
   "cell_type": "code",
   "execution_count": 34,
   "metadata": {},
   "outputs": [
    {
     "data": {
      "text/plain": [
       "1752"
      ]
     },
     "execution_count": 34,
     "metadata": {},
     "output_type": "execute_result"
    }
   ],
   "source": [
    "valid = MSFT_df[10:]\n",
    "len(valid)"
   ]
  },
  {
   "cell_type": "code",
   "execution_count": 162,
   "metadata": {},
   "outputs": [
    {
     "data": {
      "text/html": [
       "<div>\n",
       "<style scoped>\n",
       "    .dataframe tbody tr th:only-of-type {\n",
       "        vertical-align: middle;\n",
       "    }\n",
       "\n",
       "    .dataframe tbody tr th {\n",
       "        vertical-align: top;\n",
       "    }\n",
       "\n",
       "    .dataframe thead th {\n",
       "        text-align: right;\n",
       "    }\n",
       "</style>\n",
       "<table border=\"1\" class=\"dataframe\">\n",
       "  <thead>\n",
       "    <tr style=\"text-align: right;\">\n",
       "      <th></th>\n",
       "      <th>open</th>\n",
       "      <th>close</th>\n",
       "      <th>low</th>\n",
       "      <th>high</th>\n",
       "      <th>volume</th>\n",
       "      <th>pred</th>\n",
       "    </tr>\n",
       "    <tr>\n",
       "      <th>date</th>\n",
       "      <th></th>\n",
       "      <th></th>\n",
       "      <th></th>\n",
       "      <th></th>\n",
       "      <th></th>\n",
       "      <th></th>\n",
       "    </tr>\n",
       "  </thead>\n",
       "  <tbody>\n",
       "    <tr>\n",
       "      <th>2010-01-19</th>\n",
       "      <td>30.750000</td>\n",
       "      <td>31.100000</td>\n",
       "      <td>30.680000</td>\n",
       "      <td>31.240000</td>\n",
       "      <td>46575700.0</td>\n",
       "      <td>30.308275</td>\n",
       "    </tr>\n",
       "    <tr>\n",
       "      <th>2010-01-20</th>\n",
       "      <td>30.809999</td>\n",
       "      <td>30.590000</td>\n",
       "      <td>30.309999</td>\n",
       "      <td>30.940001</td>\n",
       "      <td>54849500.0</td>\n",
       "      <td>30.329866</td>\n",
       "    </tr>\n",
       "    <tr>\n",
       "      <th>2010-01-21</th>\n",
       "      <td>30.610001</td>\n",
       "      <td>30.010000</td>\n",
       "      <td>30.000000</td>\n",
       "      <td>30.719999</td>\n",
       "      <td>73086700.0</td>\n",
       "      <td>29.923618</td>\n",
       "    </tr>\n",
       "    <tr>\n",
       "      <th>2010-01-22</th>\n",
       "      <td>30.000000</td>\n",
       "      <td>28.959999</td>\n",
       "      <td>28.840000</td>\n",
       "      <td>30.200001</td>\n",
       "      <td>102004600.0</td>\n",
       "      <td>29.549763</td>\n",
       "    </tr>\n",
       "    <tr>\n",
       "      <th>2010-01-25</th>\n",
       "      <td>29.240000</td>\n",
       "      <td>29.320000</td>\n",
       "      <td>29.100000</td>\n",
       "      <td>29.660000</td>\n",
       "      <td>63373000.0</td>\n",
       "      <td>28.589338</td>\n",
       "    </tr>\n",
       "  </tbody>\n",
       "</table>\n",
       "</div>"
      ],
      "text/plain": [
       "                 open      close        low       high       volume       pred\n",
       "date                                                                          \n",
       "2010-01-19  30.750000  31.100000  30.680000  31.240000   46575700.0  30.308275\n",
       "2010-01-20  30.809999  30.590000  30.309999  30.940001   54849500.0  30.329866\n",
       "2010-01-21  30.610001  30.010000  30.000000  30.719999   73086700.0  29.923618\n",
       "2010-01-22  30.000000  28.959999  28.840000  30.200001  102004600.0  29.549763\n",
       "2010-01-25  29.240000  29.320000  29.100000  29.660000   63373000.0  28.589338"
      ]
     },
     "execution_count": 162,
     "metadata": {},
     "output_type": "execute_result"
    }
   ],
   "source": [
    "valid.head()"
   ]
  },
  {
   "cell_type": "code",
   "execution_count": 176,
   "metadata": {},
   "outputs": [
    {
     "data": {
      "text/plain": [
       "[<matplotlib.lines.Line2D at 0x2199d1e27f0>,\n",
       " <matplotlib.lines.Line2D at 0x2199e5b4128>]"
      ]
     },
     "execution_count": 176,
     "metadata": {},
     "output_type": "execute_result"
    },
    {
     "data": {
      "image/png": "[encoded data removed]",
      "text/plain": [
       "<Figure size 1152x576 with 1 Axes>"
      ]
     },
     "metadata": {
      "needs_background": "light"
     },
     "output_type": "display_data"
    }
   ],
   "source": [
    "\n",
    "plt.figure(figsize=(16,8))\n",
    "\n",
    "valid = valid[1600:]\n",
    "#plt.plot(train['close'])\n",
    "plt.plot(valid[['close','pred']])"
   ]
  },
  {
   "cell_type": "code",
   "execution_count": null,
   "metadata": {},
   "outputs": [],
   "source": [
    "valid['error'] = valid['close'] - valid['predictions']"
   ]
  },
  {
   "cell_type": "code",
   "execution_count": null,
   "metadata": {},
   "outputs": [],
   "source": [
    "valid['error'].mean()"
   ]
  },
  {
   "cell_type": "code",
   "execution_count": 203,
   "metadata": {},
   "outputs": [],
   "source": [
    "model_sixty_day.save('model_sixty_day.h5')"
   ]
  },
  {
   "cell_type": "code",
   "execution_count": 204,
   "metadata": {},
   "outputs": [],
   "source": [
    "model_thirty_day.save('model_thirty_day.h5')"
   ]
  },
  {
   "cell_type": "code",
   "execution_count": 205,
   "metadata": {},
   "outputs": [],
   "source": [
    "model_ten_day.save('model_ten_day.h5')"
   ]
  },
  {
   "cell_type": "markdown",
   "metadata": {},
   "source": []
  }
 ],
 "metadata": {
  "kernelspec": {
   "display_name": "Python 3",
   "language": "python",
   "name": "python3"
  },
  "language_info": {
   "codemirror_mode": {
    "name": "ipython",
    "version": 3
   },
   "file_extension": ".py",
   "mimetype": "text/x-python",
   "name": "python",
   "nbconvert_exporter": "python",
   "pygments_lexer": "ipython3",
   "version": "3.6.6"
  }
 },
 "nbformat": 4,
 "nbformat_minor": 2
}
